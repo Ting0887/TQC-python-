{
 "cells": [
  {
   "cell_type": "code",
   "execution_count": 4,
   "metadata": {},
   "outputs": [
    {
     "name": "stdout",
     "output_type": "stream",
     "text": [
      "6\n",
      "6 is an even number\n"
     ]
    }
   ],
   "source": [
    "# TQC+ 程式語言Python 201 偶數判斷\n",
    "#請使用選擇敘述撰寫一程式，讓使用者輸入一個正整數，然後判斷它是否為偶數（even）\n",
    "n = int(input())\n",
    "\n",
    "if n%2==0:\n",
    "#    print(\"{} is an even number\".format(n))\n",
    "    print(\"%i is an even number\" %n)\n",
    "else:\n",
    "#    print(\"{} is not an even number\".format(n))\n",
    "    print(\"%i is not an even number\" %n)"
   ]
  },
  {
   "cell_type": "code",
   "execution_count": 11,
   "metadata": {},
   "outputs": [
    {
     "name": "stdout",
     "output_type": "stream",
     "text": [
      "36\n",
      "36 is a multiple of 3.\n"
     ]
    }
   ],
   "source": [
    "# TQC+ 程式語言Python 202 倍數判斷\n",
    "#請使用選擇敘述撰寫一程式，讓使用者輸入一個正整數，然後判斷它是3或5的倍數，\n",
    "#顯示【x is a multiple of 3.】或【x is a multiple of 5.】；若此數值同時為3與5的倍數，顯示【x is a multiple of 3 and 5.】\n",
    "#；如此數值皆不屬於3或5的倍數，顯示【x is not a multiple of 3 or 5.】，將使用者輸入的數值代入x\n",
    "\n",
    "n = int(input())\n",
    "\n",
    "if n%3==0 and n%5==0:\n",
    "    print(\"%i is a multiple of 3 and 5.\" %n)\n",
    "elif  n%3==0:\n",
    "    print(\"%i is a multiple of 3.\" %n)\n",
    "elif  n%5==0:\n",
    "    print(\"%i is a multiple of 5.\" %n)\n",
    "else:\n",
    "    print(\"%i is not a multiple of 3 or 5.\" %n)\n"
   ]
  },
  {
   "cell_type": "code",
   "execution_count": 18,
   "metadata": {},
   "outputs": [
    {
     "name": "stdout",
     "output_type": "stream",
     "text": [
      "900\n",
      "900 is not a leap year.\n"
     ]
    }
   ],
   "source": [
    "# TQC+ 程式語言Python 203 閏年判斷\n",
    "#請使用選擇敘述撰寫一程式，讓使用者輸入一個西元年份，\n",
    "#然後判斷它是否為閏年（leap year）或平年。其判斷規則\n",
    "#為：每四年一閏，每百年不閏，但每四百年也一閏\n",
    "\n",
    "y = int(input())\n",
    "\n",
    "if y%400==0:\n",
    "    print(\"%i is a leap year.\" %y)\n",
    "elif y%100==0:\n",
    "    print(\"%i is not a leap year.\" %y)\n",
    "elif y%4==0:\n",
    "    print(\"%i is a leap year.\"%y)\n",
    "else:\n",
    "    print(\"%i is not a leap year.\" %y)"
   ]
  },
  {
   "cell_type": "code",
   "execution_count": 24,
   "metadata": {},
   "outputs": [
    {
     "name": "stdout",
     "output_type": "stream",
     "text": [
      "30\n",
      "20\n",
      "*\n",
      "600\n"
     ]
    }
   ],
   "source": [
    "#TQC+ 程式語言Python 204 算術運算\n",
    "#請使用選擇敘述撰寫一程式，讓使用者輸入兩個整數a、b，\n",
    "#然後再輸入一算術運算子 (+、-、*、/、//、%） ，輸出經過運算後的結果\n",
    "\n",
    "a = int(input())\n",
    "b = int(input())\n",
    "c = input()\n",
    "if c == \"+\":\n",
    "    print(a+b)\n",
    "elif c == \"-\":\n",
    "    print(a-b)\n",
    "elif c == \"*\":\n",
    "    print(a*b)\n",
    "elif c == \"/\":\n",
    "    print(a/b)\n",
    "elif c == \"//\":\n",
    "    print(a//b)\n",
    "else:\n",
    "    print(a%b)"
   ]
  },
  {
   "cell_type": "code",
   "execution_count": 31,
   "metadata": {},
   "outputs": [
    {
     "name": "stdout",
     "output_type": "stream",
     "text": [
      "p\n",
      "p is an alphabet.\n"
     ]
    }
   ],
   "source": [
    "# TQC+ 程式語言Python 205 字元判斷\n",
    "#請使用選擇敘述撰寫一程式，讓使用者輸入一個字元，\n",
    "#判斷它是包括大、小寫的英文字母（alphabet）、數字（number）\n",
    "#、或者其它字元（symbol）。例如：a為英文字母、9為數字、$為其它字元\n",
    "\n",
    "n = input()\n",
    "\n",
    "if n.isalpha():\n",
    "    print(\"%s is an alphabet.\" %n)\n",
    "elif n.isdigit():\n",
    "    print(\"%s is a digit.\"%n)\n",
    "else:\n",
    "    print(\"%s is a symbol.\"%n)"
   ]
  },
  {
   "cell_type": "code",
   "execution_count": 39,
   "metadata": {},
   "outputs": [
    {
     "name": "stdout",
     "output_type": "stream",
     "text": [
      "79\n",
      "B\n"
     ]
    }
   ],
   "source": [
    "# TQC+ 程式語言Python 206 等級判斷\n",
    "#請使用選擇敘述撰寫一程式，根據使用者輸入的分數顯示對應的等級。標準如下表所示：\n",
    "\n",
    "# 分　數   等級\n",
    "#80 ~ 100   A\n",
    "#70 ~ 79    B\n",
    "#60 ~ 69    C\n",
    "# <= 59     F\n",
    "\n",
    "num = eval(input())\n",
    "\n",
    "if num<=100 and num>=80:\n",
    "    print(\"A\")\n",
    "elif num<=79 and num>=70:\n",
    "    print(\"B\")\n",
    "elif num<=69 and num>=60:\n",
    "    print(\"C\")\n",
    "else:\n",
    "    print(\"F\")"
   ]
  },
  {
   "cell_type": "code",
   "execution_count": 1,
   "metadata": {},
   "outputs": [
    {
     "name": "stdout",
     "output_type": "stream",
     "text": [
      "25000\n",
      "22500.0\n"
     ]
    }
   ],
   "source": [
    "# TQC+ 程式語言Python 207 折扣方案\n",
    "#請使用選擇敘述撰寫一程式，要求使用者輸入購物金額，\n",
    "#購物金額需大於8,000（含）以上，並顯示折扣優\n",
    "#惠後的實付金額。購物金額折扣方案如下表所示：\n",
    "\n",
    "#金　　額\t折　扣\n",
    "#8,000（含）以上\t9.5折\n",
    "#18,000（含）以上\t9折\n",
    "#28,000（含）以上\t8折\n",
    "#38,000（含）以上\t7折\n",
    "\n",
    "M = int(input())\n",
    "\n",
    "if M>=38000:\n",
    "    print(M*0.7)\n",
    "elif M>=28000 and M<38000:\n",
    "    print(M*0.8)\n",
    "elif M>=18000 and M<28000:\n",
    "    print(M*0.9)\n",
    "else:\n",
    "    print(M*0.95)\n",
    "    \n",
    "    "
   ]
  },
  {
   "cell_type": "code",
   "execution_count": 10,
   "metadata": {},
   "outputs": [
    {
     "name": "stdout",
     "output_type": "stream",
     "text": [
      "15\n",
      "F\n"
     ]
    }
   ],
   "source": [
    "# TQC+ 程式語言Python 208 十進位換算\n",
    "#請使用選擇敘述撰寫一程式，讓使用者輸入一個十進位整數num(0 ≤ num ≤ 15)，將num轉換成十六進位值。\n",
    "#提示:轉換規則 = 十進位0~9的十六進位值為其本身，十進位10~15的十六進位值為A~F。 \n",
    "\n",
    "user_input = int(input())\n",
    "\n",
    "while user_input > 15 or user_input < 0:\n",
    "    user_input = int(input())\n",
    "    \n",
    "if 0 <= user_input <= 9:\n",
    "        print(user_input)\n",
    "elif user_input == 10 :\n",
    "        print(\"A\")\n",
    "elif user_input == 11:\n",
    "        print(\"B\")\n",
    "elif user_input == 12 :\n",
    "        print(\"C\")\n",
    "elif user_input == 13 :\n",
    "        print(\"D\")\n",
    "elif user_input == 14 :\n",
    "        print(\"E\")\n",
    "else:\n",
    "        print(\"F\")\n",
    "   \n",
    "\n",
    "    "
   ]
  },
  {
   "cell_type": "code",
   "execution_count": 17,
   "metadata": {},
   "outputs": [
    {
     "name": "stdout",
     "output_type": "stream",
     "text": [
      "7\n",
      "20\n",
      "Inside\n"
     ]
    }
   ],
   "source": [
    "# TQC+ 程式語言Python 209 距離判斷\n",
    "#請使用選擇敘述撰寫一程式，讓使用者輸入一個點的平面座標x和y值，\n",
    "#判斷此點是否與點(5, 6)的距離小於或等於15，\n",
    "#如距離小於或等於15顯示【Inside】，反之顯示【Outside】\n",
    "#提示: 計算平面上兩點距離的公式：√(x1−x2)2+(y1−y2)2\n",
    "import math\n",
    "x = eval(input())\n",
    "y = eval(input())\n",
    "distance = math.sqrt((x-5)**2+(y-6)**2)\n",
    "\n",
    "if distance <= 15:\n",
    "    print(\"Inside\")\n",
    "else:\n",
    "    print(\"Outside\")\n"
   ]
  },
  {
   "cell_type": "code",
   "execution_count": 21,
   "metadata": {},
   "outputs": [
    {
     "name": "stdout",
     "output_type": "stream",
     "text": [
      "5\n",
      "6\n",
      "13\n",
      "Invalid\n"
     ]
    }
   ],
   "source": [
    "# TQC+ 程式語言Python 210 三角形判斷\n",
    "#請使用選擇敘述撰寫一程式，讓使用者輸入三個邊長，檢查\n",
    "#這三個邊長是否可以組成一個三角形。若可以，則輸出該三\n",
    "#角形之周長；否則顯示【Invalid】\n",
    "#提示:  檢查方法 = 任意兩個邊長之總和大於第三邊長\n",
    "\n",
    "A = int(input())\n",
    "B = int(input())\n",
    "C = int(input())\n",
    "\n",
    "if A+B<C or A+C<B or B+C<A:\n",
    "    print(\"Invalid\")\n",
    "else:\n",
    "    print(A+B+C)"
   ]
  }
 ],
 "metadata": {
  "kernelspec": {
   "display_name": "Python 3",
   "language": "python",
   "name": "python3"
  },
  "language_info": {
   "codemirror_mode": {
    "name": "ipython",
    "version": 3
   },
   "file_extension": ".py",
   "mimetype": "text/x-python",
   "name": "python",
   "nbconvert_exporter": "python",
   "pygments_lexer": "ipython3",
   "version": "3.7.0"
  }
 },
 "nbformat": 4,
 "nbformat_minor": 2
}
