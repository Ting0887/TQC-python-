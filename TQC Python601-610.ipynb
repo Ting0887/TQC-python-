{
 "cells": [
  {
   "cell_type": "code",
   "execution_count": 10,
   "metadata": {},
   "outputs": [
    {
     "name": "stdout",
     "output_type": "stream",
     "text": [
      "1\n",
      "2\n",
      "3\n",
      "4\n",
      "5\n",
      "6\n",
      "7\n",
      "8\n",
      "9\n",
      "10\n",
      "11\n",
      "12\n",
      "  1  2  3\n",
      "  4  5  6\n",
      "  7  8  9\n",
      " 10 11 12\n",
      "36\n"
     ]
    }
   ],
   "source": [
    "# TQC+ 程式語言Python 601 偶數索引值加總\n",
    "#請撰寫一程式，利用一維串列存放使用者輸入的12個正整數（範圍1~99）\n",
    "#。顯示這些數字，接著將串列索引為偶數的數字相加並輸出結果。\n",
    "#輸出每一個數字欄寬設定為3，每3個一列，靠右對齊。\n",
    "\n",
    "list1 = []      \n",
    "size = 12\n",
    "for i in range(1,size+1):      \n",
    "    list1.append(eval(input()))\n",
    "    \n",
    "total = 0\n",
    "\n",
    "for i in range(1,size+1):\n",
    "    if i%3==0:\n",
    "        print(\"%3d\" %list1[i-1])\n",
    "    else:\n",
    "        print(\"%3d\" %list1[i-1],end='')\n",
    "    if (i-1)%2==0:\n",
    "        total += list1[i-1]\n",
    "        \n",
    "print(total)        \n",
    "        \n",
    "   \n",
    "        \n"
   ]
  },
  {
   "cell_type": "code",
   "execution_count": 21,
   "metadata": {},
   "outputs": [
    {
     "name": "stdout",
     "output_type": "stream",
     "text": [
      "10\n",
      "4\n",
      "3\n",
      "K\n",
      "A\n",
      "31\n"
     ]
    }
   ],
   "source": [
    "# TQC+ 程式語言Python 602 撲克牌總和\n",
    "#請撰寫一程式，讓使用者輸入52張牌中的5張，計算並輸出其總和。\n",
    "#J、Q、K以及A分別代表11、12、13以及1。\n",
    "size = 5\n",
    "card = []\n",
    "total = 0\n",
    "for i in range(size):\n",
    "    card.append(input())\n",
    "    if card[i] == \"a\" or card[i] == \"A\":\n",
    "        total += 1\n",
    "    elif card[i] == \"j\" or card[i] == \"J\":    \n",
    "        total += 11\n",
    "    elif card[i] == \"q\" or card[i] == \"Q\":    \n",
    "        total += 12\n",
    "    elif card[i] == \"k\" or card[i] == \"K\":\n",
    "        total += 13\n",
    "    else:\n",
    "        total += eval(card[i])  \n",
    "print(total)        "
   ]
  },
  {
   "cell_type": "code",
   "execution_count": 26,
   "metadata": {},
   "outputs": [
    {
     "name": "stdout",
     "output_type": "stream",
     "text": [
      "5\n",
      "10\n",
      "15\n",
      "7\n",
      "3\n",
      "20\n",
      "25\n",
      "100\n",
      "6\n",
      "19\n",
      "100 25 20\n"
     ]
    }
   ],
   "source": [
    "# TQC+ 程式語言Python 603 數字排序\n",
    "#請撰寫一程式，要求使用者輸入十個數字並存放在串列中\n",
    "#。接著由大到小的順序顯示最大的3個數字。。\n",
    "List = []\n",
    "size = 10\n",
    "for i in range(1,size+1):\n",
    "    List.append(eval(input()))\n",
    "    List.sort()  #sort由小到大\n",
    "    \n",
    "print(\"%d %d %d\"%(List[-1],List[-2],List[-3]))   "
   ]
  },
  {
   "cell_type": "code",
   "execution_count": 32,
   "metadata": {},
   "outputs": [
    {
     "name": "stdout",
     "output_type": "stream",
     "text": [
      "1\n",
      "1\n",
      "1\n",
      "3\n",
      "3\n",
      "3\n",
      "3\n",
      "4\n",
      "5\n",
      "5\n",
      "3\n",
      "4\n"
     ]
    }
   ],
   "source": [
    "# TQC+ 程式語言Python 604 眾數\n",
    "#請撰寫一程式，讓使用者輸入十個整數作為樣本數\n",
    "#，輸出眾數（樣本中出現最多次的數字）及其出現的次數\n",
    "#需import math模組，並使用math.pi。\n",
    "#假設樣本中只有一個眾數\n",
    "numlist = []\n",
    "cntlist = []\n",
    "for i in range(10):\n",
    "    numlist.append(int(input()))\n",
    "for i in range(10):\n",
    "    cntlist.append(numlist.count(numlist[i]))\n",
    "    \n",
    "print(numlist[cntlist.index(max(cntlist))]) \n",
    "print(max(cntlist))"
   ]
  },
  {
   "cell_type": "code",
   "execution_count": 38,
   "metadata": {},
   "outputs": [
    {
     "name": "stdout",
     "output_type": "stream",
     "text": [
      "100\n",
      "95\n",
      "98\n",
      "70\n",
      "66\n",
      "59\n",
      "78\n",
      "92\n",
      "85\n",
      "81\n",
      "665\n",
      "83.12\n"
     ]
    }
   ],
   "source": [
    "# TQC+ 程式語言Python 605 成績計算\n",
    "#請撰寫一程式，讓使用者輸入十個成績，接下來將十個成績中最小和最大值\n",
    "#（最小、最大值不重複）以外的成績作加總及平均，並輸出結果。\n",
    "#輸出浮點數到小數點後第二位\n",
    "\n",
    "scores = []\n",
    "total = 0\n",
    "for i in range(10):\n",
    "    user_input = int(input())\n",
    "    scores.append(user_input)\n",
    "    total = sum(scores) - max(scores) - min(scores)\n",
    "    average = total/8\n",
    "    \n",
    "print(total)\n",
    "print(\"%.2f\"%average)\n"
   ]
  },
  {
   "cell_type": "code",
   "execution_count": 47,
   "metadata": {},
   "outputs": [
    {
     "name": "stdout",
     "output_type": "stream",
     "text": [
      "3\n",
      "6\n",
      "   0   1   2   3   4   5\n",
      "  -1   0   1   2   3   4\n",
      "  -2  -1   0   1   2   3\n"
     ]
    }
   ],
   "source": [
    "# TQC+ 程式語言Python 606 二維串列行列數\n",
    "#請撰寫一程式，讓使用者輸入兩個正整數rows、cols，\n",
    "#分別表示二維串列lst 的「第一個維度大小」與「第二個維度大小」。\n",
    "#串列元素[row][col]所儲存的數字，其規則為：row、col 的交點值 = 第二個維度的索引col – 第一個維度的索引row。\n",
    "#接著以該串列作為參數呼叫函式compute()輸出串列。\n",
    "#欄寬為4\n",
    "def compute(rows,cols):\n",
    "    for i in range(rows):\n",
    "        for j in range(cols):\n",
    "            print(\"{:4d}\".format(j-i),end= '')\n",
    "        print()\n",
    "rows = int(input())\n",
    "cols = int(input())\n",
    "compute(rows,cols)"
   ]
  },
  {
   "cell_type": "code",
   "execution_count": 17,
   "metadata": {},
   "outputs": [
    {
     "name": "stdout",
     "output_type": "stream",
     "text": [
      "The 1 student:\n",
      "50\n",
      "67\n",
      "77\n",
      "80\n",
      "59\n",
      "The 2 student:\n",
      "29\n",
      "87\n",
      "93\n",
      "100\n",
      "60\n",
      "The 3 student:\n",
      "85\n",
      "83\n",
      "79\n",
      "77\n",
      "80\n",
      "Student 1:\n",
      "Sum: 333\n",
      "Average: 66.60\n",
      "Student 2:\n",
      "Sum: 369\n",
      "Average: 73.80\n",
      "Student 3:\n",
      "Sum: 404\n",
      "Average: 80.80\n"
     ]
    }
   ],
   "source": [
    "# TQC+ 程式語言Python 607 成績計算\n",
    "#請撰寫一程式，讓使用者輸入三位學生各五筆成績\n",
    "#，接著再計算並輸出每位學生的總分及平均分數。\n",
    "#平均分數輸出到小數點後第二位。\n",
    "scores = []\n",
    "for i in range(3):\n",
    "    print(\"The %d student:\"%(i+1))\n",
    "    scores.append([])\n",
    "    for j in range(5):\n",
    "        scores[i].append(eval(input()))\n",
    "\n",
    "for i in range(3):\n",
    "    print(\"Student %d:\"%(i+1))\n",
    "    print(\"Sum: %d\"%sum(scores[i]))\n",
    "    print(\"Average: %.2f\"%(sum(scores[i])/len(scores[i])))\n",
    "\n",
    "        \n",
    "    "
   ]
  },
  {
   "cell_type": "code",
   "execution_count": 2,
   "metadata": {
    "scrolled": true
   },
   "outputs": [
    {
     "name": "stdout",
     "output_type": "stream",
     "text": [
      "3\n",
      "1\n",
      "10\n",
      "19\n",
      "2\n",
      "77\n",
      "8\n",
      "5\n",
      "60\n",
      "Index of Max number 77 is [1, 2]\n",
      "Index of min number 1 is [0, 1]\n"
     ]
    }
   ],
   "source": [
    "# TQC+ 程式語言Python 608 最大最小值索引\n",
    "#請撰寫一程式，讓使用者建立一個3*3的矩陣，\n",
    "#其內容為從鍵盤輸入的整數（不重複），接著輸出矩陣最大值與最小值的索引\n",
    "\n",
    "list1 = []\n",
    "for i in range(3):\n",
    "    list1.append([])\n",
    "    for j in range(3):\n",
    "        list1[i].append(eval(input()))\n",
    "\n",
    "max_index = min_index = [0,0]\n",
    "maxn = minn = list1[0][0]\n",
    "\n",
    "for i in range(len(list1)):\n",
    "    for j in range(len(list1[i])):\n",
    "        if maxn < list1[i][j]:\n",
    "            maxn = list1[i][j]\n",
    "            max_index = [i,j]\n",
    "        elif minn > list1[i][j]:\n",
    "            minn = list1[i][j]\n",
    "            min_index = [i,j]\n",
    "\n",
    "print(\"Index of Max number\",maxn,\"is\",max_index)\n",
    "print(\"Index of min number\",minn,\"is\",min_index)\n"
   ]
  },
  {
   "cell_type": "code",
   "execution_count": 47,
   "metadata": {},
   "outputs": [
    {
     "name": "stdout",
     "output_type": "stream",
     "text": [
      "Enter user 1:\n",
      "1\n",
      "2\n",
      "3\n",
      "4\n",
      "Enter user 2:\n",
      "6\n",
      "7\n",
      "8\n",
      "9\n",
      "Matrix1:\n",
      "1 2 \n",
      "3 4 \n",
      "Matrix2:\n",
      "6 7 \n",
      "8 9 \n",
      "Sum of 2 Matrix:\n",
      "7 9 \n",
      "11 13 \n"
     ]
    }
   ],
   "source": [
    "# TQC+ 程式語言Python 609 矩陣相加\n",
    "#請撰寫一程式，讓使用者建立兩個2*2的矩陣，\n",
    "#其內容為從鍵盤輸入的整數，接著輸出這兩個矩陣的內容以及它們相加的結果。\n",
    "\n",
    "Matrix1 = []\n",
    "Matrix2 = []\n",
    "\n",
    "print('Enter user 1:')\n",
    "for i in range(2):\n",
    "    Matrix1.append([])\n",
    "    for j in range(2):\n",
    "        Matrix1[i].append(eval(input()))\n",
    "        \n",
    "print('Enter user 2:')   \n",
    "for i in range(2):\n",
    "    Matrix2.append([])\n",
    "    for j in range(2):\n",
    "        Matrix2[i].append(eval(input()))\n",
    "        \n",
    "       \n",
    "print('Matrix1:')\n",
    "for i in range(2):\n",
    "    for j in range(2):\n",
    "        print(Matrix1[i][j],end= ' ')\n",
    "    print()    \n",
    "        \n",
    "print('Matrix2:')\n",
    "for i in range(2):\n",
    "    for j in range(2):\n",
    "        print(Matrix2[i][j],end= ' ')\n",
    "    print()    \n",
    "print('Sum of 2 Matrix:')\n",
    "for i in range(2):\n",
    "    for j in range(2):\n",
    "        print(Matrix1[i][j]+Matrix2[i][j],end= ' ')\n",
    "    print()"
   ]
  },
  {
   "cell_type": "code",
   "execution_count": 71,
   "metadata": {},
   "outputs": [
    {
     "name": "stdout",
     "output_type": "stream",
     "text": [
      "Week  1:\n",
      "Day 1:\n",
      "22.5\n",
      "Day 2:\n",
      "23\n",
      "Day 3:\n",
      "19.5\n",
      "Week  2:\n",
      "Day 1:\n",
      "26.3\n",
      "Day 2:\n",
      "24.77\n",
      "Day 3:\n",
      "23.6\n",
      "Week  3:\n",
      "Day 1:\n",
      "17.9\n",
      "Day 2:\n",
      "18.45\n",
      "Day 3:\n",
      "18.33\n",
      "Week  4:\n",
      "Day 1:\n",
      "20.75\n",
      "Day 2:\n",
      "21.36\n",
      "Day 3:\n",
      "22.96\n",
      "Average 21.62\n",
      "Height 26.30\n",
      "Lowest 17.90\n"
     ]
    }
   ],
   "source": [
    "# TQC+ 程式語言Python 610 平均溫度\n",
    "#請撰寫一程式，讓使用者輸入四週各三天的溫度，\n",
    "#接著計算並輸出這四週的平均溫度及最高、最低溫度。\n",
    "#輸出浮點數到小數點後第二位\n",
    "\n",
    "list1 = []\n",
    "\n",
    "for i in range(4):\n",
    "    print('Week  %d:'%(i+1))\n",
    "    for j in range(3):\n",
    "        user_input = eval(input('Day %d:\\n'%(j+1)))\n",
    "        list1.append(user_input)\n",
    "\n",
    "print('Average %.2f'%(sum(list1)/len(list1)))      \n",
    "print('Height %.2f'%max(list1))\n",
    "print('Lowest %.2f'%min(list1))"
   ]
  }
 ],
 "metadata": {
  "kernelspec": {
   "display_name": "Python 3",
   "language": "python",
   "name": "python3"
  },
  "language_info": {
   "codemirror_mode": {
    "name": "ipython",
    "version": 3
   },
   "file_extension": ".py",
   "mimetype": "text/x-python",
   "name": "python",
   "nbconvert_exporter": "python",
   "pygments_lexer": "ipython3",
   "version": "3.7.0"
  }
 },
 "nbformat": 4,
 "nbformat_minor": 2
}
