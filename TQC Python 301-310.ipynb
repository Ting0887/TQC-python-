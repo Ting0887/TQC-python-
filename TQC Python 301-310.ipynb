{
 "cells": [
  {
   "cell_type": "code",
   "execution_count": 1,
   "metadata": {},
   "outputs": [
    {
     "name": "stdout",
     "output_type": "stream",
     "text": [
      "66\n",
      "666\n",
      "219966\n"
     ]
    }
   ],
   "source": [
    "# TQC+ 程式語言Python301 迴圈整數連加\n",
    "#請使用迴圈敘述撰寫一程式，讓使用者輸入\n",
    "#兩個正整數a、b（a < b），利用迴圈計算從a開始連加到b的總和\n",
    "#。例如：輸入a=1、b=100，則輸出結果為5050（1 + 2 + … + 100 = 5050）\n",
    "\n",
    "a = int(input())\n",
    "b = int(input())\n",
    "\n",
    "total = 0\n",
    "\n",
    "for i in range(a,b+1):\n",
    "    total = total + i\n",
    "    #total += i\n",
    "print(total)"
   ]
  },
  {
   "cell_type": "code",
   "execution_count": 2,
   "metadata": {},
   "outputs": [
    {
     "name": "stdout",
     "output_type": "stream",
     "text": [
      "14\n",
      "1144\n",
      "327714\n"
     ]
    }
   ],
   "source": [
    "# TQC+ 程式語言Python 302 迴圈偶數連加\n",
    "#請使用迴圈敘述撰寫一程式，讓使用者輸入兩個正整數a、b（a < b）\n",
    "#，利用迴圈計算從a開始的偶數連加到b的總和。\n",
    "#例如：輸入a=1、b=100，則輸出結果為\n",
    "#2550（2 + 4 + … + 100 = 2550）\n",
    "\n",
    "a = int(input())\n",
    "b = int(input())\n",
    "total = 0\n",
    "#for i in range(a,b+1,2):\n",
    "    #total = total +i\n",
    "for i in range(a,b+1):\n",
    "    if i%2==0:\n",
    "        total += i\n",
    "print(total)"
   ]
  },
  {
   "cell_type": "code",
   "execution_count": 3,
   "metadata": {},
   "outputs": [
    {
     "name": "stdout",
     "output_type": "stream",
     "text": [
      "3\n",
      "   1\n",
      "   2   4\n",
      "   3   6   9\n"
     ]
    }
   ],
   "source": [
    "# TQC+ 程式語言Python 303 迴圈數值相乘\n",
    "#請使用迴圈敘述撰寫一程式，讓使用者輸入一個正整數（<100），\n",
    "#然後以三角形的方式依序輸出此數的相乘結果。\n",
    "#提示: 輸出欄寬為4，且需靠右對齊\n",
    "\n",
    "num = int(input())\n",
    "\n",
    "for i in range(1,num+1):\n",
    "    for j in range(1,i+1):\n",
    "        print(\"{:4d}\".format(i*j),end=\"\")\n",
    "    print()    "
   ]
  },
  {
   "cell_type": "code",
   "execution_count": 4,
   "metadata": {},
   "outputs": [
    {
     "name": "stdout",
     "output_type": "stream",
     "text": [
      "21\n",
      "50\n"
     ]
    }
   ],
   "source": [
    "# TQC+ 程式語言Python 304 迴圈倍數總和\n",
    "#請使用迴圈敘述撰寫一程式，讓使用者輸入一個正整數a\n",
    "#，利用迴圈計算從1到a之間，所有5之倍數數字總和。\n",
    "\n",
    "a = int(input())\n",
    "total = 0\n",
    "for i in range(1,a+1):\n",
    "    if i%5==0:\n",
    "        total +=i\n",
    "print(total)    "
   ]
  },
  {
   "cell_type": "code",
   "execution_count": 5,
   "metadata": {},
   "outputs": [
    {
     "name": "stdout",
     "output_type": "stream",
     "text": [
      "123456\n",
      "654321"
     ]
    }
   ],
   "source": [
    "# TQC+ 程式語言Python 305 數字反轉\n",
    "#請撰寫一程式，讓使用者輸入一個正整數，將此數值以反轉的順序輸出。\n",
    "num = input()\n",
    "#while num!=0:\n",
    " #   print(num%10,end='')\n",
    "  #  num//=10\n",
    "for i in range(1,len(num)+1):\n",
    "    print(num[-i],end=\"\")"
   ]
  },
  {
   "cell_type": "code",
   "execution_count": 6,
   "metadata": {},
   "outputs": [
    {
     "name": "stdout",
     "output_type": "stream",
     "text": [
      "15\n",
      "1307674368000\n"
     ]
    }
   ],
   "source": [
    "# TQC+ 程式語言Python 306 迴圈階乘計算\n",
    "#請使用迴圈敘述撰寫一程式，讓使用者輸入一個正整數n，利用迴圈計算並輸出n!的值。\n",
    "\n",
    "num = int(input())\n",
    "total = 1\n",
    "for i in range(1,num+1):\n",
    "    total *=i\n",
    "    #total = total*i\n",
    "print(total)    "
   ]
  },
  {
   "cell_type": "code",
   "execution_count": 11,
   "metadata": {},
   "outputs": [
    {
     "name": "stdout",
     "output_type": "stream",
     "text": [
      "5\n",
      "1 * 1 = 1   1 * 2 = 2   1 * 3 = 3   1 * 4 = 4   1 * 5 = 5   \n",
      "2 * 1 = 2   2 * 2 = 4   2 * 3 = 6   2 * 4 = 8   2 * 5 = 10  \n",
      "3 * 1 = 3   3 * 2 = 6   3 * 3 = 9   3 * 4 = 12  3 * 5 = 15  \n",
      "4 * 1 = 4   4 * 2 = 8   4 * 3 = 12  4 * 4 = 16  4 * 5 = 20  \n",
      "5 * 1 = 5   5 * 2 = 10  5 * 3 = 15  5 * 4 = 20  5 * 5 = 25  \n"
     ]
    }
   ],
   "source": [
    "# TQC+ 程式語言Python 307 乘法表\n",
    "#請使用迴圈敘述撰寫一程式，要求使用者輸入一個正整數n（n<10），顯示n*n乘法表。\n",
    "#每項運算式需進行格式化排列整齊，每個運算子及運算元輸出的欄寬為2，\n",
    "#而每項乘積輸出的欄寬為4，皆靠左對齊不跳行\n",
    "\n",
    "n = int(input())\n",
    "while n>=10:\n",
    "    n = int(input())\n",
    "for i in range(1,n+1):\n",
    "    for j in range(1,n+1):\n",
    "        print(\"{:<2.0f}* {:<2.0f}= {:<4.0f}\".format(i,j,i*j),end =\"\")\n",
    "    print()    "
   ]
  },
  {
   "cell_type": "code",
   "execution_count": 3,
   "metadata": {},
   "outputs": [
    {
     "name": "stdout",
     "output_type": "stream",
     "text": [
      "3\n",
      "55\n",
      "Sum of all digits of 55 is 10\n",
      "0\n",
      "Sum of all digits of 0 is 0\n",
      "769\n",
      "Sum of all digits of 769 is 22\n"
     ]
    }
   ],
   "source": [
    "# TQC+ 程式語言Python 308 迴圈位數加總\n",
    "#請使用迴圈敘述撰寫一程式，要求使用者輸入一個數字，此數字代表後面測試資料的數量。\n",
    "#每一筆測試資料是一個正整數（由使用者輸入），將此正整數的每位數全部加總起來。\n",
    "\n",
    "num = int(input())\n",
    "\n",
    "for i in range(num):\n",
    "    total = 0\n",
    "    user_input = input()\n",
    "    for i in range(len(user_input)):\n",
    "        total += int(user_input[i])\n",
    "    print(\"Sum of all digits of {} is {}\".format(user_input,total))    "
   ]
  },
  {
   "cell_type": "code",
   "execution_count": 43,
   "metadata": {},
   "outputs": [
    {
     "name": "stdout",
     "output_type": "stream",
     "text": [
      "50000\n",
      "1.3\n",
      "5\n",
      "Month\tAmount\n",
      "1\t50054.17\n",
      "2\t50108.39\n",
      "3\t50162.68\n",
      "4\t50217.02\n",
      "5\t50271.42\n"
     ]
    }
   ],
   "source": [
    "# TQC+ 程式語言Python 309 存款總額\n",
    "#請使用迴圈敘述撰寫一程式，提示使用者輸入金額（如10,000）\n",
    "#、年收益率（如5.75），以及經過的月份數（如5），接著顯示每個月的存款總額。\n",
    "#四捨五入，輸出浮點數到小數點後第二位\n",
    "#假設您存款$10,000，年收益為5.75%。\n",
    "#過了一個月，存款會是：10000 + 10000 * 5.75 / 1200 = 10047.92\n",
    "#過了兩個月，存款會是：10047.92 + 10047.92 * 5.75 / 1200 = 10096.06\n",
    "#過了三個月，存款將是：10096.06 + 10096.06 * 5.75 / 1200 = 10144.44\n",
    "\n",
    "amount = eval(input())\n",
    "rate = eval(input())\n",
    "period = eval(input())\n",
    "\n",
    "rate/=100\n",
    "\n",
    "print(\"%s\\t%s\"%(\"Month\",\"Amount\"))\n",
    "for month in range(1,period+1):\n",
    "    total = amount + amount*(rate/12)\n",
    "    print(\"%d\\t%0.2f\"%(month,total))\n",
    "    amount = total"
   ]
  },
  {
   "cell_type": "code",
   "execution_count": 44,
   "metadata": {},
   "outputs": [
    {
     "name": "stdout",
     "output_type": "stream",
     "text": [
      "8\n",
      "1.8284\n"
     ]
    }
   ],
   "source": [
    "# TQC+ 程式語言Python 310 迴圈公式計算\n",
    "#請使用迴圈敘述撰寫一程式，讓使用者輸入正整數n(1 < n)，計算以下公式的總和並顯示結果：\n",
    "n = eval(input())\n",
    "ans = 0\n",
    "for i in range(1,n):\n",
    "    ans = ans + (1/(pow(i,0.5)+pow(i+1,0.5)))\n",
    "print(\"%.4f\"%(ans))    "
   ]
  }
 ],
 "metadata": {
  "kernelspec": {
   "display_name": "Python 3",
   "language": "python",
   "name": "python3"
  },
  "language_info": {
   "codemirror_mode": {
    "name": "ipython",
    "version": 3
   },
   "file_extension": ".py",
   "mimetype": "text/x-python",
   "name": "python",
   "nbconvert_exporter": "python",
   "pygments_lexer": "ipython3",
   "version": "3.7.0"
  }
 },
 "nbformat": 4,
 "nbformat_minor": 2
}
