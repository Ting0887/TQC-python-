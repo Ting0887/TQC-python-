{
 "cells": [
  {
   "cell_type": "code",
   "execution_count": 15,
   "metadata": {},
   "outputs": [
    {
     "name": "stdout",
     "output_type": "stream",
     "text": [
      "85\n",
      "4\n",
      "299\n",
      "478\n",
      "|   85     4|\n",
      "|  299   478|\n",
      "|85    4    |\n",
      "|299   478  |\n"
     ]
    }
   ],
   "source": [
    "#TQC+程式語言Python 101 整數格式化輸出 \n",
    "#請撰寫一程式，輸入四個整數，然後將這四個整數以欄寬為5\n",
    "#、欄與欄間隔一個空白字元，再以每列印兩個的方式\n",
    "#，先列印向右靠齊，再列印向左靠齊，左右皆以直線 |（Vertical bar）作為邊界。\n",
    "a = int(input())\n",
    "b = int(input())\n",
    "c = int(input())\n",
    "d = int(input())\n",
    "print(\"|{:>5d} {:>5d}|\".format(a,b))\n",
    "print(\"|{:>5d} {:>5d}|\".format(c,d))\n",
    "print(\"|{:<5d} {:<5d}|\".format(a,b))\n",
    "print(\"|{:<5d} {:<5d}|\".format(c,d))"
   ]
  },
  {
   "cell_type": "code",
   "execution_count": 18,
   "metadata": {},
   "outputs": [
    {
     "name": "stdout",
     "output_type": "stream",
     "text": [
      "23.12\n",
      "395.3\n",
      "100.4617\n",
      "564.329\n",
      "|  23.12  395.30|\n",
      "| 100.46  564.33|\n",
      "|23.12   395.30 |\n",
      "|100.46  564.33 |\n"
     ]
    }
   ],
   "source": [
    "# TQC+程式語言Python 102 浮點數格式化輸出\n",
    "#請撰寫一程式，輸入四個分別含有小數1到4位的浮點數，然後將這四個浮點數以欄寬為7、\n",
    "#欄與欄間隔一個空白字元、每列印兩個的方式，\n",
    "#先列印向右靠齊，再列印向左靠齊，左右皆以直線 |（Vertical bar）作為邊界。\n",
    "#提示：輸出浮點數到小數點後第二位\n",
    "a = float(input())\n",
    "b = float(input())\n",
    "c = float(input())\n",
    "d = float(input())\n",
    "print(\"|{:7.2f} {:7.2f}|\".format(a,b))\n",
    "print(\"|{:7.2f} {:7.2f}|\".format(c,d))\n",
    "print(\"|{:<7.2f} {:<7.2f}|\".format(a,b))\n",
    "print(\"|{:<7.2f} {:<7.2f}|\".format(c,d))"
   ]
  },
  {
   "cell_type": "code",
   "execution_count": 20,
   "metadata": {},
   "outputs": [
    {
     "name": "stdout",
     "output_type": "stream",
     "text": [
      "I\n",
      "enjoy\n",
      "learning\n",
      "python\n",
      "|         I      enjoy|\n",
      "|  learning     python|\n",
      "|I          enjoy     |\n",
      "|learning   python    |\n"
     ]
    }
   ],
   "source": [
    "# TQC+ 程式語言Python 103 字串格式化輸出\n",
    "#請撰寫一程式，輸入四個單字，然後將這四個單字以欄寬為10、欄與欄間隔一個空白字元\n",
    "#、每列印兩個的方式，先列印向右靠齊，再列印向左靠齊，左右皆以直線 |（Vertical bar）作為邊界。\n",
    "a = input()\n",
    "b = input()\n",
    "c = input()\n",
    "d = input()\n",
    "print(\"|{:>10s} {:>10s}|\".format(a,b))\n",
    "print(\"|{:>10s} {:>10s}|\".format(c,d))\n",
    "print(\"|{:10s} {:10s}|\".format(a,b))\n",
    "print(\"|{:10s} {:10s}|\".format(c,d))"
   ]
  },
  {
   "cell_type": "code",
   "execution_count": 25,
   "metadata": {},
   "outputs": [
    {
     "name": "stdout",
     "output_type": "stream",
     "text": [
      "10\n",
      "Radius:10.00\n",
      "Perimeter:62.83\n",
      "Area:314.16\n"
     ]
    }
   ],
   "source": [
    "# TQC+ 程式語言Python 104 圓形面積計算\n",
    "#請撰寫一程式，輸入一圓的半徑，並加以計算此圓之面積和周長，最後請印出此圓的半徑（Radius）、周長（Perimeter）和面積（Area）\n",
    "#提示：\n",
    "#->需import math模組，並使用math.pi\n",
    "#->輸出浮點數到小數點後第二位\n",
    "import math\n",
    "Radius = float(input())\n",
    "Perimeter = Radius*2*math.pi\n",
    "Area = Radius*Radius*math.pi\n",
    "print(\"Radius:{:.2f}\".format(Radius))\n",
    "print(\"Perimeter:{:.2f}\".format(Perimeter))\n",
    "print(\"Area:{:.2f}\".format(Area))"
   ]
  },
  {
   "cell_type": "code",
   "execution_count": 32,
   "metadata": {},
   "outputs": [
    {
     "name": "stdout",
     "output_type": "stream",
     "text": [
      "23.5\n",
      "19\n",
      "Height = 23.50\n",
      "Width = 19.00\n",
      "Perimeter = 893.00\n",
      "Area = 446.50\n"
     ]
    }
   ],
   "source": [
    "# TQC+ 程式語言Python 105 矩形面積計算\n",
    "# 試試下面這個呢 貼在 code judger\n",
    "#請撰寫一程式，輸入兩個正數，代表一矩形之寬和高，\n",
    "#計算並輸出此矩形之高（Height）、寬（Width）、周長（Perimeter）及面積（Area）\n",
    "#提示: 輸出浮點數到小數點後第二位\n",
    "Height = float(input())\n",
    "Width = float(input())\n",
    "Perimeter = 2*(Height*Width)\n",
    "Area = Height*Width\n",
    "print(\"Height = {:.2f}\".format(Height))\n",
    "print(\"Width = {:.2f}\".format(Width))\n",
    "print(\"Perimeter = {:.2f}\".format(Perimeter))\n",
    "print(\"Area = {:.2f}\".format(Area))"
   ]
  },
  {
   "cell_type": "code",
   "execution_count": 35,
   "metadata": {},
   "outputs": [
    {
     "name": "stdout",
     "output_type": "stream",
     "text": [
      "1\n",
      "0\n",
      "1\n",
      "Speed:37.5\n"
     ]
    }
   ],
   "source": [
    "# TQC+ 程式語言Python 106 公里英哩換算\n",
    "#題目說明:\n",
    "#假設一賽跑選手在x分y秒的時間跑完z公里，請撰寫一程式，輸入x、y、z數值，最後顯示此選手每小時的平均英哩速度（1英哩等於1.6公里）\n",
    "#提示: 輸出浮點數到小數點後第一位\n",
    "\n",
    "x = float(input()) #分\n",
    "y = float(input()) #秒\n",
    "z = float(input()) #距離(公里)\n",
    "\n",
    "distance = z/1.6\n",
    "time = (x*60 + y)/3600\n",
    "speed = distance/time\n",
    "print(\"Speed:{:.1f}\".format(speed))"
   ]
  },
  {
   "cell_type": "code",
   "execution_count": 43,
   "metadata": {},
   "outputs": [
    {
     "name": "stdout",
     "output_type": "stream",
     "text": [
      "88.7\n",
      "12\n",
      "56\n",
      "132.55\n",
      "3\n",
      "88.7 12 56 132.55 3\n",
      "Sum = 292.2\n",
      "Avg = 58.5\n"
     ]
    }
   ],
   "source": [
    "# TQC+ 程式語言Python 107 數值計算\n",
    "#請撰寫一程式，讓使用者輸入五個數字，計算並輸出這五個數字之數值、總和及平均數\n",
    "#提示： 輸出浮點數到小數點後第1位\n",
    "a = eval(input())\n",
    "b = eval(input())\n",
    "c = eval(input())\n",
    "d = eval(input())\n",
    "e = eval(input())\n",
    "\n",
    "total = a+b+c+d+e\n",
    "\n",
    "print(\"{} {} {} {} {}\".format(a,b,c,d,e))\n",
    "print(\"Sum = {:.1f}\".format(total))\n",
    "print(\"Avg = {:.1f}\".format(total/5))"
   ]
  },
  {
   "cell_type": "code",
   "execution_count": 48,
   "metadata": {},
   "outputs": [
    {
     "name": "stdout",
     "output_type": "stream",
     "text": [
      "2\n",
      "1\n",
      "5.5\n",
      "8\n",
      "(2 , 1)\n",
      "(5.5 , 8)\n",
      "7.8262\n"
     ]
    }
   ],
   "source": [
    "# TQC+ 程式語言Python 108 座標距離計算\n",
    "#請撰寫一程式，讓使用者輸入四個數字x1、y1、x2、y2，分別代表兩個點的座標(x1, y1)、(x2, y2)。計算並輸出這兩點的座標與其歐式距離\n",
    "#提示：\n",
    "#->歐式距離 = sqrt((x1 - x2)^2+(y1 - y2)^2)就是=> √((x1−x2)2+(y1−y2)2)\n",
    "#-> 兩座標的歐式距離，輸出到小數點後第4位 \n",
    "import math\n",
    "\n",
    "x1 = eval(input())\n",
    "y1 = eval(input())\n",
    "x2 = eval(input())\n",
    "y2 = eval(input())\n",
    "\n",
    "distance = math.sqrt((x1-x2)**2+(y1-y2)**2)\n",
    "\n",
    "print(\"({} , {})\".format(x1,y1))\n",
    "print(\"({} , {})\".format(x2,y2))\n",
    "print(\"{:.4f}\".format(distance))"
   ]
  },
  {
   "cell_type": "code",
   "execution_count": 50,
   "metadata": {},
   "outputs": [
    {
     "name": "stdout",
     "output_type": "stream",
     "text": [
      "5\n",
      "Area=43.0119\n"
     ]
    }
   ],
   "source": [
    "#TQC+ 程式語言Python 109 正五邊形面積計算\n",
    "#請撰寫一程式，讓使用者輸入一個正數s，代表正五邊形之邊長，計算並輸出此正五邊形之面積（Area）\n",
    "#提示：\n",
    "#-> 建議使用import math模組的math.pow及math.tan\n",
    "#-> 正五邊形面積的公式：Area=(5∗s^2)/(4∗tan(pi/5)\n",
    "#-> 輸出浮點數到小數點後第四位\n",
    "\n",
    "import math\n",
    "a = eval(input())\n",
    "area = (5*pow(a,2)/(4*math.tan(math.pi/5)))\n",
    "print(\"Area={:.4f}\".format(area))\n"
   ]
  },
  {
   "cell_type": "code",
   "execution_count": 54,
   "metadata": {},
   "outputs": [
    {
     "name": "stdout",
     "output_type": "stream",
     "text": [
      "8\n",
      "6\n",
      "Area=173.8234\n"
     ]
    }
   ],
   "source": [
    "#TQC+ 程式語言Python 110 正n邊形面積計算\n",
    "#請撰寫一程式，輸入一圓的半徑，並加以計算此圓之面積和周長，最後請印出此圓的半徑（Radius）、周長（Perimeter）和面積（Area）\n",
    "#提示：\n",
    "#-> 建議使用import math模組的math.pow及math.tan\n",
    "#-> 正五邊形面積的公式：Area=(n∗s2)/(4∗tan(pi)/n)\n",
    "#-> 輸出浮點數到小數點後第四位\n",
    "\n",
    "import math\n",
    "n = eval(input())\n",
    "s = eval(input())\n",
    "\n",
    "area = (n*pow(s,2))/(4*math.tan(math.pi/n))\n",
    "print(\"Area={:.4f}\".format(area))        "
   ]
  }
 ],
 "metadata": {
  "kernelspec": {
   "display_name": "Python 3",
   "language": "python",
   "name": "python3"
  },
  "language_info": {
   "codemirror_mode": {
    "name": "ipython",
    "version": 3
   },
   "file_extension": ".py",
   "mimetype": "text/x-python",
   "name": "python",
   "nbconvert_exporter": "python",
   "pygments_lexer": "ipython3",
   "version": "3.7.0"
  }
 },
 "nbformat": 4,
 "nbformat_minor": 2
}
