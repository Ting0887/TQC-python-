{
 "cells": [
  {
   "cell_type": "code",
   "execution_count": 6,
   "metadata": {},
   "outputs": [
    {
     "name": "stdout",
     "output_type": "stream",
     "text": [
      "apple\n",
      "Index of 'a': 0\n",
      "Index of 'p': 1\n",
      "Index of 'p': 2\n",
      "Index of 'l': 3\n",
      "Index of 'e': 4\n"
     ]
    }
   ],
   "source": [
    "# TQC+ 程式語言Python 801 字串索引\n",
    "#請撰寫一程式，要求使用者輸入一字串，\n",
    "#顯示該字串每個字元的索引。\n",
    "\n",
    "msg = input()\n",
    "for i in range(len(msg)):\n",
    "    print(\"Index of '%s':\"%(msg[i]),i)"
   ]
  },
  {
   "cell_type": "code",
   "execution_count": 11,
   "metadata": {},
   "outputs": [
    {
     "name": "stdout",
     "output_type": "stream",
     "text": [
      "apple\n",
      "ASCII for 'a' is 97\n",
      "ASCII for 'p' is 112\n",
      "ASCII for 'p' is 112\n",
      "ASCII for 'l' is 108\n",
      "ASCII for 'e' is 101\n",
      "530\n"
     ]
    }
   ],
   "source": [
    "# TQC+ 程式語言Python 802 字元對應\n",
    "#請撰寫一程式，要求使用者輸入一字串，\n",
    "#顯示該字串每個字元的對應ASCII碼及其總和。\n",
    "\n",
    "string = input()\n",
    "total = 0\n",
    "for i in range(len(string)):\n",
    "    total += ord(string[i])\n",
    "    print(\"ASCII for '%s' is %d\" %(string[i],ord(string[i])))\n",
    "print(total)    "
   ]
  },
  {
   "cell_type": "code",
   "execution_count": 19,
   "metadata": {},
   "outputs": [
    {
     "name": "stdout",
     "output_type": "stream",
     "text": [
      "many foreign student study in FJU\n",
      "study in FJU "
     ]
    }
   ],
   "source": [
    "# TQC+ 程式語言Python 803 倒數三個詞\n",
    "#請撰寫一程式，讓使用者輸入一個句子\n",
    "#（至少有五個詞，以空白隔開），並輸出該句子倒數三個詞\n",
    "msg = input().split(' ')\n",
    "for i in range(-3,0):\n",
    "    print(msg[i],end= ' ')"
   ]
  },
  {
   "cell_type": "code",
   "execution_count": 1,
   "metadata": {},
   "outputs": [
    {
     "name": "stdout",
     "output_type": "stream",
     "text": [
      "loli con\n",
      "LOLI CON\n",
      "Loli Con\n"
     ]
    }
   ],
   "source": [
    "# TQC+ 程式語言Python 804 大寫轉換\n",
    "#請撰寫一程式，讓使用者輸入一字串，\n",
    "#分別將該字串轉換成全部大寫以及每個字的第一個字母大寫。\n",
    "\n",
    "String = input()\n",
    "print(String.upper())\n",
    "print(String.title())"
   ]
  },
  {
   "cell_type": "code",
   "execution_count": 33,
   "metadata": {},
   "outputs": [
    {
     "name": "stdout",
     "output_type": "stream",
     "text": [
      "python\n",
      "|python    |\n",
      "|  python  |\n",
      "|    python|\n"
     ]
    }
   ],
   "source": [
    "# TQC+ 程式語言Python 805 字串輸出\n",
    "#請撰寫一程式，輸入四個分別含有小數1到4位的浮點數，\n",
    "#然後將這四個浮點數以欄寬為7、欄與欄間隔一個空白字元、\n",
    "#每列印兩個的方式，先列印向右靠齊，再列印向左靠齊\n",
    "#，左右皆以直線 |（Vertical bar）作為邊界。\n",
    "#輸出浮點數到小數點後第二位。\n",
    "S = input()\n",
    "print(\"|{:<10s}|\".format(S))\n",
    "print(\"|{:^10s}|\".format(S))\n",
    "print(\"|{:>10s}|\".format(S))"
   ]
  },
  {
   "cell_type": "code",
   "execution_count": 37,
   "metadata": {},
   "outputs": [
    {
     "name": "stdout",
     "output_type": "stream",
     "text": [
      "apple\n",
      "a\n",
      "a occurs 1 time(s)\n"
     ]
    }
   ],
   "source": [
    "#TQC+ 程式語言Python 806 字元次數計算\n",
    "#請撰寫一程式，讓使用者輸入一字串和一字元，\n",
    "#並將此字串及字元作為參數傳遞給名為compute()的函式，\n",
    "#此函式將回傳該字串中指定字元出現的次數，接著再輸出結果。\n",
    "def compute(List,c):\n",
    "    count = 0\n",
    "    for i in range(len(List)):\n",
    "        if List[i]==c:\n",
    "            count+=1\n",
    "        return\n",
    "List = input()\n",
    "c = input()\n",
    "compute(List,c)\n",
    "print('{} occurs {} time(s)'.format(c,count))"
   ]
  },
  {
   "cell_type": "code",
   "execution_count": 47,
   "metadata": {},
   "outputs": [
    {
     "name": "stdout",
     "output_type": "stream",
     "text": [
      "12 15 60 77 30\n",
      "Total = 194\n",
      "Avg = 38.8\n"
     ]
    }
   ],
   "source": [
    "# TQC+ 程式語言Python 807 字串加總\n",
    "#請撰寫一程式，要求使用者輸入一字串，\n",
    "#該字串為五個數字，以空白隔開。\n",
    "#請將此五個數字加總（Total）並計算平均（Average）。\n",
    "List = list(input().split(' '))\n",
    "total=0\n",
    "for i in range(len(List)):\n",
    "    total += int(List[i])\n",
    "    \n",
    "avg = total/5\n",
    "print('Total = {}'.format(total))\n",
    "print('Avg = {}'.format(avg))\n"
   ]
  },
  {
   "cell_type": "code",
   "execution_count": 71,
   "metadata": {},
   "outputs": [
    {
     "name": "stdout",
     "output_type": "stream",
     "text": [
      "13a-78-5533\n",
      "Invalid SSN\n"
     ]
    }
   ],
   "source": [
    "# TQC+ 程式語言Python 808 社會安全碼\n",
    "#請撰寫一程式，提示使用者輸入一個社會安全碼SSN，\n",
    "#格式為ddd-dd-dddd，d表示數字。\n",
    "#若格式完全符合（正確的SSN）\n",
    "#則顯示【Valid SSN】，否則顯示【Invalid SSN】。\n",
    "\n",
    "SSN = list(input().split('-'))\n",
    "\n",
    "Flag = True\n",
    "\n",
    "for i in range(len(SSN)):\n",
    "    if not SSN[i].isdigit():\n",
    "        print('Invalid SSN')\n",
    "        Flag = False\n",
    "if Flag == True:\n",
    "    print('Valid SSN')"
   ]
  },
  {
   "cell_type": "code",
   "execution_count": 3,
   "metadata": {},
   "outputs": [
    {
     "name": "stdout",
     "output_type": "stream",
     "text": [
      "fdgggsg45456\n",
      "Invalid password\n"
     ]
    }
   ],
   "source": [
    "# TQC+ 程式語言Python 809 密碼規則\n",
    "#請撰寫一程式，要求使用者輸入一個密碼（字串），檢查此密碼是否符合規則。密碼規則如下：\n",
    "#a. 必須至少八個字元。\n",
    "#b. 只包含英文字母和數字。\n",
    "#c. 至少要有一個大寫英文字母。\n",
    "#d. 若符合上述三項規則，程式將顯示檢查結果為【Valid password】，否則顯示【Invalid password】\n",
    "\n",
    "PW = input()\n",
    "b=0\n",
    "for i in range(len(PW)):\n",
    "    if PW[i].isupper():\n",
    "        b=1\n",
    "if b==1 and len(PW)>=8 and PW.isalnum(): \n",
    "    print(\"Valid password\")\n",
    "else:\n",
    "    print(\"Invalid password\")"
   ]
  },
  {
   "cell_type": "code",
   "execution_count": 12,
   "metadata": {},
   "outputs": [
    {
     "name": "stdout",
     "output_type": "stream",
     "text": [
      "3\n",
      "12 56 78 -99 23 38\n",
      "177.00\n",
      "12 13 -7 -9 11\n",
      "20.00\n",
      "45 46 -70 2 3\n",
      "116.00\n"
     ]
    }
   ],
   "source": [
    "# TQC+ 程式語言Python 810 最大值與最小值之差\n",
    "#請撰寫一程式，首先要求使用者輸入正整數k（1 <=k <= 100），代表有k筆測試資料。\n",
    "#每一筆測試資料是一串數字，每個數字之間以一空白區隔\n",
    "#，請找出此串列數字中最大值和最小值之間的差。\n",
    "n = 0\n",
    "while n<1 or n>100:\n",
    "    n = eval(input())\n",
    "for i in range(n):    \n",
    "    s = input().split(' ')\n",
    "    M_m = int(max(s))-int(min(s))\n",
    "    print(\"{:.2f}\".format(M_m))"
   ]
  }
 ],
 "metadata": {
  "kernelspec": {
   "display_name": "Python 3",
   "language": "python",
   "name": "python3"
  },
  "language_info": {
   "codemirror_mode": {
    "name": "ipython",
    "version": 3
   },
   "file_extension": ".py",
   "mimetype": "text/x-python",
   "name": "python",
   "nbconvert_exporter": "python",
   "pygments_lexer": "ipython3",
   "version": "3.7.0"
  }
 },
 "nbformat": 4,
 "nbformat_minor": 2
}
