{
 "cells": [
  {
   "cell_type": "code",
   "execution_count": 1,
   "metadata": {},
   "outputs": [
    {
     "name": "stdout",
     "output_type": "stream",
     "text": [
      "Leon 87\n",
      "Ben 90\n",
      "Sam 77\n",
      "Karen 92\n",
      "Kelena 92\n"
     ]
    }
   ],
   "source": [
    "## TQC+ 程式語言Python 901 成績資料\n",
    "#請撰寫一程式，將使用者輸入的五筆資料寫入到write.txt（若不存在，則讓程式建立它）\n",
    "#，每一筆資料為一行，包含學生名字和期末總分，以空白隔開。檔案寫入完成後要關閉。\n",
    "\n",
    "f = open(\"c:/write.txt\",\"w\",encoding=\"utf-8\")\n",
    "\n",
    "for i in range(5):\n",
    "    f.write(input()+'\\n')\n",
    "\n",
    "f.close()    \n",
    "    "
   ]
  },
  {
   "cell_type": "code",
   "execution_count": 2,
   "metadata": {},
   "outputs": [
    {
     "name": "stdout",
     "output_type": "stream",
     "text": [
      "660\n"
     ]
    }
   ],
   "source": [
    "# TQC+ 程式語言Python 902 資料加總\n",
    "#請撰寫一程式，讀取read.txt的內容（內容為數字，以空白分隔）\n",
    "#並將這些數字加總後輸出。檔案讀取完成後要關閉。\n",
    "\n",
    "f = open('c:/read.txt','r',encoding='utf-8')\n",
    "total = 0\n",
    "\n",
    "for i in f:\n",
    "    num = i.split()\n",
    "    for j in num:\n",
    "        total+=eval(j)\n",
    "print(total)        "
   ]
  },
  {
   "cell_type": "code",
   "execution_count": 2,
   "metadata": {},
   "outputs": [
    {
     "name": "stdout",
     "output_type": "stream",
     "text": [
      "Daisy\n",
      "Kelvin\n",
      "Tom\n",
      "Joyce\n",
      "Sarah\n",
      "Append completed!\n",
      "Content of \"data.txt\"\n",
      "Ben\n",
      "Cathy\n",
      "Tony\n",
      "\n",
      "\n",
      "\n",
      "\n",
      "Daisy\n",
      "Kelvin\n",
      "Tom\n",
      "Joyce\n",
      "Sarah"
     ]
    }
   ],
   "source": [
    "# TQC+ 程式語言Python 903 成績資料\n",
    "#請撰寫一程式，要求使用者輸入五個人的名字並加入到data.txt的尾端。之後再顯示此檔案的內容。\n",
    "\n",
    "with open('c:/data.txt','a',encoding=\"utf_8\") as fp:\n",
    "    for i in range(5):\n",
    "        fp.write('\\n'+input())\n",
    "print('Append completed!') \n",
    "print('Content of \"data.txt\"')\n",
    "\n",
    "with open('c:/data.txt','r',encoding=\"utf_8\") as fp:\n",
    "    for line in fp:\n",
    "        print(line,end='')"
   ]
  },
  {
   "cell_type": "code",
   "execution_count": 34,
   "metadata": {},
   "outputs": [
    {
     "name": "stdout",
     "output_type": "stream",
     "text": [
      "Ben 175 65\n",
      "\n",
      "Cathy 155 55\n",
      "\n",
      "Tony 172 75\n",
      "Average height: 167.33\n",
      "Average weight: 65.00\n",
      "The tallest is Ben with 175.00cm\n",
      "The heaviest is Tony with 75.00kg\n"
     ]
    }
   ],
   "source": [
    "# TQC+ 程式語言Python 904 資料計算\n",
    "#請撰寫一程式，讀取read.txt（每一列的格式為名字和身高、體重，以空白分隔）\n",
    "#並顯示檔案內容、所有人的平均身高、平均體重以及最高者、最重者。\n",
    "#輸出浮點數到小數點後第二位。\n",
    "\n",
    "name, height, weight, data = [],[],[],[]\n",
    "\n",
    "fp = open(\"c:/read904.txt\",'r',encoding = \"UTF-8\")\n",
    "for line in fp:\n",
    "    print(line) #印出每行字串\n",
    "    data = line.split(\" \")\n",
    "    #print(data) #用來檢視轉成串列後之結果\n",
    "    name.append(data[0])\n",
    "    height.append(int(data[1]))\n",
    "    weight.append(int(data[2]))\n",
    "print(\"Average height: {:.2f}\".format(sum(height)/len(height)))\n",
    "print(\"Average weight: {:.2f}\".format(sum(weight)/len(weight)))\n",
    "print(\"The tallest is {} with {:.2f}cm\".format(name[height.index(max(height))] ,max(height)))\n",
    "print(\"The heaviest is {} with {:.2f}kg\".format(name[weight.index(max(weight))] , max(weight)))"
   ]
  },
  {
   "cell_type": "code",
   "execution_count": 58,
   "metadata": {},
   "outputs": [
    {
     "name": "stdout",
     "output_type": "stream",
     "text": [
      "data905.txt\n",
      "Kiwi\n",
      "=== Before the deletion\n",
      "Apple Kiwi Banana \n",
      "Tomato Pear Durian \n",
      "=== After the deletion\n",
      "Apple  Banana \n",
      "Tomato Pear Durian \n"
     ]
    }
   ],
   "source": [
    "# TQC+ 程式語言Python 905 字串資料刪除\n",
    "#請撰寫一程式，要求使用者輸入檔案名稱data.txt和一字串s，\n",
    "#顯示該檔案的內容。接著刪除檔案中的字串s，顯示刪除後的檔案內容並存檔。\n",
    "\n",
    "fname = input()\n",
    "deletion = input()\n",
    "\n",
    "with open(\"c:/\"+fname,\"r\",encoding = \"UTF-8\") as fp:\n",
    "    data = fp.read()\n",
    "    \n",
    "print(\"=== Before the deletion\")\n",
    "print(data)\n",
    "\n",
    "data = data.replace(deletion,\"\") \n",
    "\n",
    "print(\"=== After the deletion\")\n",
    "print(data)\n",
    "\n",
    "with open(\"c:/\"+fname,\"w\",encoding = \"UTF-8\") as fp:\n",
    "    fp.write(data)"
   ]
  },
  {
   "cell_type": "code",
   "execution_count": 65,
   "metadata": {},
   "outputs": [
    {
     "name": "stdout",
     "output_type": "stream",
     "text": [
      "data906.txt\n",
      "pen\n",
      "sneakers\n",
      "=== Before the replacement\n",
      "watch shoes skirt\n",
      "pen trunks pants\n",
      "\n",
      "=== After the replacement\n",
      "watch shoes skirt\n",
      "sneakers trunks pants\n",
      "\n"
     ]
    }
   ],
   "source": [
    "# TQC+ 程式語言Python 906 字串資料取代\n",
    "#請撰寫一程式，要求使用者輸入檔名data.txt、\n",
    "#字串s1和字串s2。程式將檔案中的字串s1以s2取代之。\n",
    "filename = input()\n",
    "s1 = input()\n",
    "s2 = input()\n",
    "with open(\"c:/\"+filename,'r',encoding='utf-8') as fp:\n",
    "    data = fp.read()\n",
    "    \n",
    "print(\"=== Before the replacement\")\n",
    "print(data)\n",
    "\n",
    "print(\"=== After the replacement\")\n",
    "data = data.replace(s1,s2)\n",
    "print(data)\n",
    "\n",
    "with open('c:/'+filename,'w',encoding='utf-8') as fp:\n",
    "    fp.write(data)"
   ]
  },
  {
   "cell_type": "code",
   "execution_count": 29,
   "metadata": {},
   "outputs": [
    {
     "name": "stdout",
     "output_type": "stream",
     "text": [
      "read907.txt\n",
      "6 line(s)\n",
      "102 word(s)\n",
      "614 char(s)\n"
     ]
    }
   ],
   "source": [
    "# TQC+ 程式語言Python 907 詳細資料顯示\n",
    "#請撰寫一程式，要求使用者輸入檔名read.txt\n",
    "#，顯示該檔案的行數、單字數（簡單起見，單字以空白隔開即可，忽略其它標點符號）以及字元數（不含空白）。\n",
    "filename = input()\n",
    "with open(\"c:/\"+filename,'r',encoding='utf-8') as fp:\n",
    "    L = 0\n",
    "    W = 0\n",
    "    C = 0\n",
    "    for line in fp: \n",
    "        L+=1\n",
    "        line_sp = line.split()\n",
    "        W += len(line_sp)\n",
    "        for i in range(len(line_sp)):  \n",
    "            C += len(line_sp[i])\n",
    "print(L,\"line(s)\")    \n",
    "print(W,\"word(s)\")\n",
    "print(C,\"char(s)\")\n",
    "fp.close()"
   ]
  },
  {
   "cell_type": "code",
   "execution_count": 3,
   "metadata": {},
   "outputs": [
    {
     "name": "stdout",
     "output_type": "stream",
     "text": [
      "read908.txt\n",
      "3\n",
      "a\n",
      "is\n",
      "programming\n"
     ]
    }
   ],
   "source": [
    "#TQC+ 程式語言Python 908 單字次數計算\n",
    "#請撰寫一程式，要求使用者輸入檔名read.txt，以及檔案中某單字出現的次數。\n",
    "#輸出符合次數的單字，並依單字的第一個字母大小排序。（單字的判斷以空白隔開即可)\n",
    "\n",
    "filename = input()\n",
    "c = int(input())\n",
    "\n",
    "file =open('c:/'+filename,'r',encoding='utf-8')\n",
    "\n",
    "data = sorted(file.read().split())\n",
    "for i in sorted(set(data)):\n",
    "    if data.count(i)==c:\n",
    "        print(i)\n",
    "        "
   ]
  },
  {
   "cell_type": "code",
   "execution_count": 55,
   "metadata": {},
   "outputs": [
    {
     "name": "stdout",
     "output_type": "stream",
     "text": [
      "Karen 123456789 \n",
      "Bonnie 235689147 \n",
      "Simon 987612345 \n",
      "Louis 675489321 \n",
      "Andy 019328475\n",
      "The content of \"data.dat\":\n",
      "Karen 123456789 \n",
      "\n",
      "Bonnie 235689147 \n",
      "\n",
      "Simon 987612345 \n",
      "\n",
      "Louis 675489321 \n",
      "\n",
      "Andy 019328475\n",
      "\n"
     ]
    }
   ],
   "source": [
    "# TQC+ 程式語言Python 909 聯絡人資料\n",
    "#請撰寫一程式，將使用者輸入的五個人的資料寫入data.dat檔，\n",
    "#每一個人的資料為姓名和電話號碼，\n",
    "#以空白分隔。再將檔案加以讀取並顯示檔案內容。\n",
    "\n",
    "with open('c:/data.dat','w',encoding='utf-8') as fp:\n",
    "    for i in range(5):\n",
    "        fp.write(input()+'\\n')\n",
    "print('The content of \"data.dat\":')  \n",
    "with open('c:/data.dat','r',encoding='utf-8') as fp:\n",
    "    for line in fp:\n",
    "        print(line)\n",
    "   "
   ]
  },
  {
   "cell_type": "code",
   "execution_count": 9,
   "metadata": {},
   "outputs": [
    {
     "name": "stdout",
     "output_type": "stream",
     "text": [
      "學號 姓名 性別 科系\n",
      "\n",
      "101 陳小華 0 餐旅管理\n",
      "\n",
      "202 李小安 1 廣告\n",
      "\n",
      "303 張小威 1 英文\n",
      "\n",
      "404 羅小美 0 法文\n",
      "\n",
      "505 陳小凱 1 日文\n",
      "Number of males: 3\n",
      "Number of females: 2\n"
     ]
    }
   ],
   "source": [
    "# TQC+ 程式語言Python 910 學生基本資料\n",
    "#請撰寫一程式，要求使用者讀入read.dat（以UTF-8編碼格式讀取），第一列為欄位名稱，\n",
    "#第二列之後是個人記錄。請輸出檔案內容並顯示男生人數和女生人數\n",
    "#（根據\"性別\"欄位，0為女性、1為男性）。\n",
    "M = F = 0\n",
    "with open('c:/read910.txt','r',encoding='utf-8') as fp:\n",
    "    data = fp.read()\n",
    "    print(data)\n",
    "    num = data.split()\n",
    "    for i in range(len(num)):\n",
    "        if num[i]=='1':\n",
    "            M += 1\n",
    "        if num[i]=='0':\n",
    "            F += 1\n",
    "print('Number of males:',M)\n",
    "print('Number of females:',F)"
   ]
  }
 ],
 "metadata": {
  "kernelspec": {
   "display_name": "Python 3",
   "language": "python",
   "name": "python3"
  },
  "language_info": {
   "codemirror_mode": {
    "name": "ipython",
    "version": 3
   },
   "file_extension": ".py",
   "mimetype": "text/x-python",
   "name": "python",
   "nbconvert_exporter": "python",
   "pygments_lexer": "ipython3",
   "version": "3.7.0"
  }
 },
 "nbformat": 4,
 "nbformat_minor": 2
}
