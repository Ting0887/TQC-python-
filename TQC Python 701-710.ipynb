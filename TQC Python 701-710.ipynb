{
 "cells": [
  {
   "cell_type": "code",
   "execution_count": 2,
   "metadata": {},
   "outputs": [
    {
     "name": "stdout",
     "output_type": "stream",
     "text": [
      "-5\n",
      "3\n",
      "100\n",
      "1\n",
      "-10\n",
      "-9999\n",
      "(-5, 3, 100, 1, -10)\n",
      "Length: 5\n",
      "Max: 100\n",
      "min: -10\n"
     ]
    }
   ],
   "source": [
    "#701 串列數組轉換\n",
    "#說明:請撰寫一程式，輸入數個整數並儲存至串列中，以輸入-9999為結束點（串列中不包含-9999）\n",
    "#，再將此串列轉換成數組，最後顯示該數組以及其長度（Length）、最大值（Max）、最小值（Min）、總和（Sum）。\n",
    "\n",
    "List = []\n",
    "num = eval(input())\n",
    "while num != -9999:\n",
    "    List.append(num)\n",
    "    num = eval(input())\n",
    "    \n",
    "Tuple = tuple(List)\n",
    "print(Tuple)\n",
    "print('Length:',len(Tuple))\n",
    "print('Max:',max(Tuple))\n",
    "print('min:',min(Tuple))"
   ]
  },
  {
   "cell_type": "code",
   "execution_count": 5,
   "metadata": {},
   "outputs": [
    {
     "name": "stdout",
     "output_type": "stream",
     "text": [
      "Create tuple 1:\n",
      "1\n",
      "2\n",
      "3\n",
      "-9999\n",
      "Create tuple 2:\n",
      "2\n",
      "7\n",
      "-9999\n",
      "Combined tuple before sorting: (1, 2, 3, 2, 7)\n",
      "Combined list after sorting: [1, 2, 2, 3, 7]\n"
     ]
    }
   ],
   "source": [
    "#702 數組合併排序說明:請撰寫一程式，輸入並建立兩組數組，\n",
    "#各以-9999為結束點（數組中不包含-9999）。將此兩數組合併\n",
    "#並從小到大排序之，顯示排序前的數組和排序後的串列。\n",
    "\n",
    "Tuple1 = tuple()\n",
    "print('Create tuple 1:')\n",
    "while True:\n",
    "    num = eval(input())\n",
    "    if num == -9999:\n",
    "        break\n",
    "    Tuple1 += (num, )\n",
    "    \n",
    "Tuple2 = tuple()\n",
    "print('Create tuple 2:')\n",
    "while True:\n",
    "    num = eval(input())\n",
    "    if num == -9999:\n",
    "        break\n",
    "    Tuple2 += (num, )\n",
    "    \n",
    "Tuple3 = Tuple1 + Tuple2\n",
    "List = sorted(list(Tuple3))\n",
    "print('Combined tuple before sorting:',Tuple3)\n",
    "print('Combined list after sorting:',List)\n",
    "    "
   ]
  },
  {
   "cell_type": "code",
   "execution_count": 7,
   "metadata": {},
   "outputs": [
    {
     "name": "stdout",
     "output_type": "stream",
     "text": [
      "san\n",
      "candy\n",
      "sunny\n",
      "zed\n",
      "neroal\n",
      "end\n",
      "('san', 'candy', 'sunny', 'zed', 'neroal')\n",
      "('san', 'candy', 'sunny')\n",
      "('sunny', 'zed', 'neroal')\n"
     ]
    }
   ],
   "source": [
    "#703 數組條件判斷說明:請撰寫一程式，輸入一些字串至數組（至少輸入五個字串）\n",
    "#，以字串\"end\"為結束點（數組中不包含字串\"end\"）。接著輸出該數組，\n",
    "#再分別顯示該數組的第一個元素到第三個元素和倒數三個元素。\n",
    "\n",
    "Tuple = tuple()\n",
    "while True:\n",
    "    word = input()\n",
    "    if word =='end':\n",
    "        break\n",
    "    Tuple += (word, )\n",
    "    \n",
    "print(Tuple)\n",
    "print(Tuple[0:3])\n",
    "print(Tuple[2:5])\n"
   ]
  },
  {
   "cell_type": "code",
   "execution_count": 9,
   "metadata": {},
   "outputs": [
    {
     "name": "stdout",
     "output_type": "stream",
     "text": [
      "-5\n",
      "10\n",
      "66\n",
      "-32\n",
      "7\n",
      "-9999\n",
      "Length: 5\n",
      "Max: 66\n",
      "min: -32\n",
      "Sum: 46\n"
     ]
    }
   ],
   "source": [
    "#704 集合條件判斷說明:請撰寫一程式，輸入數個整數並儲存至集合，\n",
    "#以輸入-9999為結束點（集合中不包含-9999），\n",
    "#最後顯示該集合的長度（Length）、最大值（Max）、最小值（Min）、總和（Sum）。\n",
    "\n",
    "S = set()\n",
    "num = eval(input())\n",
    "while num!=-9999:\n",
    "    S.add(num)\n",
    "    num = eval(input())\n",
    "    \n",
    "print('Length:',len(S))\n",
    "print('Max:',max(S))\n",
    "print('min:',min(S))\n",
    "print('Sum:',sum(S))"
   ]
  },
  {
   "cell_type": "code",
   "execution_count": 11,
   "metadata": {},
   "outputs": [
    {
     "name": "stdout",
     "output_type": "stream",
     "text": [
      "Input to set1\n",
      "3\n",
      "28\n",
      "-2\n",
      "7\n",
      "39\n",
      "Input to set2\n",
      "2\n",
      "77\n",
      "0\n",
      "Input to set3\n",
      "3\n",
      "28\n",
      "12\n",
      "99\n",
      "39\n",
      "7\n",
      "-1\n",
      "-2\n",
      "65\n",
      "set2 is subset of set1: False\n",
      "set3 is superset of set1: True\n"
     ]
    }
   ],
   "source": [
    "#705 子集合與超集合\n",
    "#說明:請撰寫一程式，依序輸入五個、三個、九個整數，\n",
    "#並各自儲存到集合set1、set2、set3中。\n",
    "#接著回答：set2是否為set1的子集合（subset）？set3是否為set1的超集合（superset）？\n",
    "print('Input to set1')\n",
    "set1 = set()\n",
    "for i in range(5):\n",
    "    num = eval(input())\n",
    "    set1.add(num)\n",
    "\n",
    "print('Input to set2')\n",
    "set2 = set()\n",
    "for i in range(3):\n",
    "    num = eval(input())\n",
    "    set2.add(num)\n",
    "\n",
    "print('Input to set3')    \n",
    "set3 = set()\n",
    "for i in range(9):\n",
    "    num = eval(input())\n",
    "    set3.add(num)\n",
    "print('set2 is subset of set1:',set2.issubset(set1))\n",
    "print('set3 is superset of set1:',set3.issuperset(set1))"
   ]
  },
  {
   "cell_type": "code",
   "execution_count": 17,
   "metadata": {},
   "outputs": [
    {
     "name": "stdout",
     "output_type": "stream",
     "text": [
      "1\n",
      "the quick brown fox jumps over the lazy dog\n",
      "True\n"
     ]
    }
   ],
   "source": [
    "#706 全字母句\n",
    "#說明:全字母句（Pangram）是英文字母表所有的字母都出現至少一次\n",
    "#（最好只出現一次）的句子。請撰寫一程式，要求使用者輸入一正整數k（代表有k筆測試資料）\n",
    "#，每一筆測試資料為一句子，程式判斷該句子是否為Pangram，並印出對應結果True（若是）或False（若不是）。\n",
    "\n",
    "set1 = set('abcdefghijklmnopqrstuvwxyz')\n",
    "k = int(input())\n",
    "\n",
    "for i in range(k):\n",
    "    msg = input()\n",
    "    set2 = set(msg)\n",
    "    set2.discard(' ')\n",
    "    print(set2==set1)"
   ]
  },
  {
   "cell_type": "code",
   "execution_count": 18,
   "metadata": {},
   "outputs": [
    {
     "name": "stdout",
     "output_type": "stream",
     "text": [
      "Enter group X subject:\n",
      "math\n",
      "english\n",
      "end\n",
      "Enter group Y subject:\n",
      "math\n",
      "chinese\n",
      "graphic\n",
      "music\n",
      "end\n",
      "['chinese', 'english', 'graphic', 'math', 'music']\n",
      "['math']\n",
      "['chinese', 'graphic', 'music']\n",
      "['chinese', 'english', 'graphic', 'music']\n"
     ]
    }
   ],
   "source": [
    "#707 共同科目\n",
    "#說明:請撰寫一程式，輸入X組和Y組各自的科目至集合中，\n",
    "#以字串\"end\"作為結束點（集合中不包含字串\"end\"）。\n",
    "#請依序分行顯示(1) X組和Y組的所有科目、(2)X組和Y組的共同科目、(3)Y組有但X組沒有的科目，\n",
    "#以及(4) X組和Y組彼此沒有的科目（不包含相同科目）。\n",
    "\n",
    "X = set()\n",
    "print('Enter group X subject:')\n",
    "while True:\n",
    "    word = input()\n",
    "    if word =='end':\n",
    "        break\n",
    "    X.add(word)\n",
    "Y = set()\n",
    "print('Enter group Y subject:')\n",
    "while True:\n",
    "    word = input()\n",
    "    if word =='end':\n",
    "        break\n",
    "    Y.add(word)\n",
    "    \n",
    "\n",
    "print(sorted(list(Y.union(X))))   \n",
    "print(sorted(list(Y.intersection(X))))\n",
    "print(sorted(list(Y.difference(X))))\n",
    "print(sorted(list(X.symmetric_difference(Y))))"
   ]
  },
  {
   "cell_type": "code",
   "execution_count": 21,
   "metadata": {},
   "outputs": [
    {
     "name": "stdout",
     "output_type": "stream",
     "text": [
      "Create dict1:\n",
      "Key:a\n",
      "Value:ant\n",
      "Key:c\n",
      "Value:cat\n",
      "Key:z\n",
      "Value:zed\n",
      "Key:end\n",
      "Create dict2:\n",
      "Key:g\n",
      "Value:gold\n",
      "Key:b\n",
      "Value:bed\n",
      "Key:q\n",
      "Value:quick\n",
      "Key:end\n",
      "a : ant\n",
      "b : bed\n",
      "c : cat\n",
      "g : gold\n",
      "q : quick\n",
      "z : zed\n"
     ]
    }
   ],
   "source": [
    "#708 詞典合併\n",
    "#說明:請撰寫一程式，自行輸入兩個詞典（以輸入鍵值\"end\"作為輸入結束點，詞典中將不包含鍵值\"end\"）\n",
    "#，將此兩詞典合併，並根據key值字母由小到大排序輸出，如有重複key值，後輸入的key值將覆蓋前一key值。\n",
    "\n",
    "dict1 = {}\n",
    "print('Create dict1:')\n",
    "while True:\n",
    "    key = input('Key:')\n",
    "    if key == 'end':\n",
    "        break\n",
    "    dict1[key] = input('Value:')\n",
    "    \n",
    "dict2 = {}\n",
    "print('Create dict2:')\n",
    "while True:\n",
    "    key = input('Key:')\n",
    "    if key == 'end':\n",
    "        break\n",
    "    dict2[key] = input('Value:')  \n",
    "    \n",
    "dict1.update(dict2)\n",
    "for i in sorted(dict1.keys()):\n",
    "    print(i,':',dict1[i])"
   ]
  },
  {
   "cell_type": "code",
   "execution_count": 22,
   "metadata": {},
   "outputs": [
    {
     "name": "stdout",
     "output_type": "stream",
     "text": [
      "Key:a\n",
      "Value:ant\n",
      "Key:e\n",
      "Value:egg\n",
      "Key:b\n",
      "Value:bold\n",
      "Key:q\n",
      "Value:queue\n",
      "Key:end\n",
      "a : ant\n",
      "b : bold\n",
      "e : egg\n",
      "q : queue\n"
     ]
    }
   ],
   "source": [
    "#709 詞典排序\n",
    "#說明:請撰寫一程式，輸入一顏色詞典color_dict\n",
    "#（以輸入鍵值\"end\"作為輸入結束點，詞典中將不包含鍵值\"end\"）\n",
    "#，再根據key值的字母由小到大排序並輸出。\n",
    "color_dict = {}\n",
    "while True:\n",
    "    key = input('Key:')\n",
    "    if key == 'end':\n",
    "        break\n",
    "    color_dict[key] = input('Value:')\n",
    "    \n",
    "for i in sorted(color_dict.keys()):\n",
    "    print(i,':',color_dict[i])"
   ]
  },
  {
   "cell_type": "code",
   "execution_count": 24,
   "metadata": {},
   "outputs": [
    {
     "name": "stdout",
     "output_type": "stream",
     "text": [
      "Key:a\n",
      "Value:ant\n",
      "Key:b\n",
      "Value:banana\n",
      "Key:c\n",
      "Value:candy\n",
      "Key:d\n",
      "Value:dog\n",
      "Key:end\n",
      "Search key:b\n",
      "True\n"
     ]
    }
   ],
   "source": [
    "#710 詞典搜尋\n",
    "#說明:請撰寫一程式，為一詞典輸入資料\n",
    "#（以輸入鍵值\"end\"作為輸入結束點，詞典中將不包含鍵值\"end\"）\n",
    "#，再輸入一鍵值並檢視此鍵值是否存在於該詞典中。\n",
    "\n",
    "Dict = {}\n",
    "while True:\n",
    "    key = input('Key:')\n",
    "    if key == 'end':\n",
    "        break\n",
    "    Dict[key] = input('Value:')\n",
    "    \n",
    "search = input('Search key:')\n",
    "print(search in Dict.keys())"
   ]
  }
 ],
 "metadata": {
  "kernelspec": {
   "display_name": "Python 3",
   "language": "python",
   "name": "python3"
  },
  "language_info": {
   "codemirror_mode": {
    "name": "ipython",
    "version": 3
   },
   "file_extension": ".py",
   "mimetype": "text/x-python",
   "name": "python",
   "nbconvert_exporter": "python",
   "pygments_lexer": "ipython3",
   "version": "3.7.0"
  }
 },
 "nbformat": 4,
 "nbformat_minor": 2
}
