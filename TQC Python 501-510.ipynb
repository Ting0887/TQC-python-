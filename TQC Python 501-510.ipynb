{
 "cells": [
  {
   "cell_type": "code",
   "execution_count": 1,
   "metadata": {},
   "outputs": [
    {
     "name": "stdout",
     "output_type": "stream",
     "text": [
      "data science\n",
      "b123456\n",
      "Neroal\n",
      "Department: data science\n",
      "Student ID: b123456\n",
      "Name: Neroal\n"
     ]
    }
   ],
   "source": [
    "# TQC+ 程式語言Python 501 訊息顯示\n",
    "#請撰寫一程式，呼叫函式compute()，該函式功能為讓使用者\n",
    "#輸入系別（Department）、學號（StudentID）和姓名（Name）並顯示這些訊息。\n",
    "\n",
    "def compute():\n",
    "    department = input()\n",
    "    studentID = input()\n",
    "    name = input()\n",
    "    \n",
    "    print(\"Department:\",department)\n",
    "    print(\"Student ID:\",studentID)\n",
    "    print(\"Name:\",name)\n",
    "    \n",
    "compute()    \n"
   ]
  },
  {
   "cell_type": "code",
   "execution_count": 11,
   "metadata": {},
   "outputs": [
    {
     "name": "stdout",
     "output_type": "stream",
     "text": [
      "56\n",
      "11\n",
      "616\n"
     ]
    }
   ],
   "source": [
    "#  TQC+ 程式語言Python 502 乘積\n",
    "#請撰寫一程式，將使用者輸入的兩個整數作為參數傳遞\n",
    "#給一個名為compute(x, y)的函式，此函式將回傳x和y的乘積。\n",
    "\n",
    "def compute(x,y):\n",
    "\n",
    "    x = eval(input())\n",
    "    y = eval(input())\n",
    "    return x*y\n",
    "    \n",
    "  \n",
    "    \n",
    "print(compute(x,y))  "
   ]
  },
  {
   "cell_type": "code",
   "execution_count": 13,
   "metadata": {},
   "outputs": [
    {
     "name": "stdout",
     "output_type": "stream",
     "text": [
      "1\n",
      "100\n",
      "5050\n"
     ]
    }
   ],
   "source": [
    "# TQC+ 程式語言Python 503 連加計算\n",
    "#請撰寫一程式，讓使用者輸入兩個整數，接著呼叫函式compute()\n",
    "#，此函式接收兩個參數a、b，並回傳從a連加到b的和。\n",
    "\n",
    "def compute():\n",
    "    \n",
    "    a = int(input())\n",
    "    b = int(input())\n",
    "    total = 0\n",
    "    for i in range(a,b+1):\n",
    "        total += i \n",
    "    return total\n",
    "\n",
    "print(compute())\n"
   ]
  },
  {
   "cell_type": "code",
   "execution_count": 15,
   "metadata": {},
   "outputs": [
    {
     "name": "stdout",
     "output_type": "stream",
     "text": [
      "2\n",
      "4\n",
      "16\n"
     ]
    }
   ],
   "source": [
    "# TQC+ 程式語言Python 504 次方計算\n",
    "#請撰寫一程式，讓使用者輸入兩個整數，接著呼叫函式compute()\n",
    "#，此函式接收兩個參數a、b，並回傳a^b的值。\n",
    "\n",
    "def compute(a,b):\n",
    "    \n",
    "    return a**b\n",
    "    \n",
    "    \n",
    "a = int(input())\n",
    "b = int(input())\n",
    "\n",
    "print(compute(a,b))"
   ]
  },
  {
   "cell_type": "code",
   "execution_count": 21,
   "metadata": {},
   "outputs": [
    {
     "name": "stdout",
     "output_type": "stream",
     "text": [
      "e\n",
      "5\n",
      "5\n",
      "e e e e e \n",
      "e e e e e \n",
      "e e e e e \n",
      "e e e e e \n",
      "e e e e e \n"
     ]
    }
   ],
   "source": [
    "# TQC+ 程式語言Python 505 依參數格式化輸出\n",
    "#請撰寫一程式，將使用者輸入的三個參數，變數名稱分別為\n",
    "#a（代表字元character）、x（代表個數）、y（代表列數）,\n",
    "#作為參數傳遞給一個名為compute()的函式，\n",
    "#該函式功能為：一列印出x個a字元，總共印出y列。\n",
    "\n",
    "def compute(a,x,y):\n",
    "    for i in range(y):\n",
    "        for j in range(x):\n",
    "            print('%c'%a,end=' ')\n",
    "        print()\n",
    "a = input()\n",
    "x = int(input())\n",
    "y = int(input())\n",
    "compute(a,x,y)        "
   ]
  },
  {
   "cell_type": "code",
   "execution_count": 50,
   "metadata": {},
   "outputs": [
    {
     "name": "stdout",
     "output_type": "stream",
     "text": [
      "2\n",
      "-3\n",
      "1\n",
      "1.0,0.5\n"
     ]
    }
   ],
   "source": [
    "# TQC+ 程式語言Python 506 一元二次方程式\n",
    "#請撰寫一程式，將使用者輸入的三個整數（代表一元二次方程式 ax2+bx+c=0的三個係數a、b、c）作為參數傳遞給一個名為compute()的函式\n",
    "#，該函式回傳方程式的解，如無解則輸出【Your equation has noroot.】\n",
    "#輸出有順序性\n",
    "import math\n",
    "def ans(a,b,c):\n",
    "       \n",
    "    if b**2-4*a*c < 0:\n",
    "        print(\"Your equation has noroot.\")\n",
    "        return None\n",
    "    \n",
    "    else:\n",
    "        r1 = (-b+math.sqrt(b**2-4*a*c))/(2*a)\n",
    "        r2 = (-b-math.sqrt(b**2-4*a*c))/(2*a) \n",
    "        return str(r1) + ',' + str(r2)\n",
    "    \n",
    "a = eval(input())\n",
    "b = eval(input())\n",
    "c = eval(input())\n",
    "\n",
    "print(ans(a,b,c))"
   ]
  },
  {
   "cell_type": "code",
   "execution_count": 6,
   "metadata": {},
   "outputs": [
    {
     "name": "stdout",
     "output_type": "stream",
     "text": [
      "-1\n",
      "Not Prime\n"
     ]
    }
   ],
   "source": [
    "# TQC+ 程式語言Python 507 質數\n",
    "#請撰寫一程式，讓使用者輸入一個整數x，並將x傳遞給名為compute()的函式，\n",
    "#此函式將回傳x是否為質數（Prime number）的布林值\n",
    "#，接著再將判斷結果輸出。如輸入值為質數顯示【Prime】，否則顯示【Not Prime】。\n",
    "\n",
    "def isprime(x):\n",
    "    \n",
    "    if x<=1:\n",
    "        return False\n",
    "    for i in range(2,x):\n",
    "        if x%i==0:\n",
    "            return False\n",
    "    return True\n",
    "\n",
    "x = eval(input())\n",
    "\n",
    "if isprime(x):\n",
    "    print(\"Prime\")\n",
    "else:\n",
    "    print(\"Not Prime\")\n",
    "\n",
    "            "
   ]
  },
  {
   "cell_type": "code",
   "execution_count": 65,
   "metadata": {},
   "outputs": [
    {
     "name": "stdout",
     "output_type": "stream",
     "text": [
      "15\n",
      "20\n",
      "5\n"
     ]
    }
   ],
   "source": [
    "# TQC+ 程式語言Python 508 最大公因數\n",
    "#請撰寫一程式，讓使用者輸入兩個正整數x、y，\n",
    "#並將x與y傳遞給名為compute()的函式，此函式回傳x和y的最大公因數。\n",
    "\n",
    "def compute(x,y):\n",
    "    gcd = 1\n",
    "    for i in range(1,min(x,y)+1):\n",
    "        if x%i==0 and y%i==0:\n",
    "            gcd = i\n",
    "    return gcd       \n",
    "x = int(input())\n",
    "y = int(input())\n",
    "\n",
    "print(compute(x,y))\n",
    "            "
   ]
  },
  {
   "cell_type": "code",
   "execution_count": 18,
   "metadata": {},
   "outputs": [
    {
     "name": "stdout",
     "output_type": "stream",
     "text": [
      "1,2\n",
      "1,6\n",
      "1 / 2 + 1 / 6 = 2 / 3\n"
     ]
    }
   ],
   "source": [
    "# TQC+ 程式語言Python 509 最簡分數\n",
    "#請撰寫一程式，讓使用者輸入二個分數，分別是x/y和m/n（其中x、y、m、n皆為正整數）\n",
    "#，計算這兩個分數的和為p/q，接著將p和q傳遞給名為compute()函式，\n",
    "#此函式回傳p和q的最大公因數（Greatest Common Divisor, GCD）。\n",
    "#再將p和q各除以其最大公因數，最後輸出的結果必須以最簡分數表示。\n",
    "\n",
    "def compute(x,y):\n",
    "    gcd = 1\n",
    "    for i in range(1,min(x,y)+1):\n",
    "        if x%i==0 and y%i==0:\n",
    "            gcd=i\n",
    "    return gcd        \n",
    "    \n",
    "x,y = eval(input())\n",
    "m,n = eval(input())\n",
    "q = y*n\n",
    "p = x*n + y*m\n",
    "\n",
    "gcd = compute(p,q)\n",
    "\n",
    "print(x,'/',y ,'+', m,'/',n ,'=', int(p/gcd),'/',int(q/gcd))"
   ]
  },
  {
   "cell_type": "code",
   "execution_count": 117,
   "metadata": {},
   "outputs": [
    {
     "name": "stdout",
     "output_type": "stream",
     "text": [
      "10\n",
      "0 1 1 2 3 5 8 13 21 34 "
     ]
    }
   ],
   "source": [
    "#TQC+ 程式語言Python 510 費氏數列\n",
    "#請撰寫一程式，計算費氏數列（Fibonacci numbers），\n",
    "#使用者輸入一正整數num (num>=2)，\n",
    "#並將它傳遞給名為compute()的函式\n",
    "#，此函式將輸出費氏數列前num個的數值。\n",
    "\n",
    "def compute(n): \n",
    "    curr = 1\n",
    "    pre = 0\n",
    "    print(0,1,end=' ')\n",
    "    for i in range(2,n):\n",
    "        temp = curr+pre\n",
    "        print(temp,end=' ')\n",
    "        pre = curr\n",
    "        curr = temp\n",
    "        \n",
    "num = eval(input())\n",
    "\n",
    "compute(num)"
   ]
  }
 ],
 "metadata": {
  "kernelspec": {
   "display_name": "Python 3",
   "language": "python",
   "name": "python3"
  },
  "language_info": {
   "codemirror_mode": {
    "name": "ipython",
    "version": 3
   },
   "file_extension": ".py",
   "mimetype": "text/x-python",
   "name": "python",
   "nbconvert_exporter": "python",
   "pygments_lexer": "ipython3",
   "version": "3.7.0"
  }
 },
 "nbformat": 4,
 "nbformat_minor": 2
}
