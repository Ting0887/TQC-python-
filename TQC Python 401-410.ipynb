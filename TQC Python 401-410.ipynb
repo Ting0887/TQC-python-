{
 "cells": [
  {
   "cell_type": "code",
   "execution_count": 5,
   "metadata": {},
   "outputs": [
    {
     "name": "stdout",
     "output_type": "stream",
     "text": [
      "1\n",
      "25\n",
      "46\n",
      "874\n",
      "12\n",
      "-4\n",
      "56\n",
      "2\n",
      "-5\n",
      "-9\n",
      "-9\n"
     ]
    }
   ],
   "source": [
    "# TQC+ 程式語言Python 401 最小值\n",
    "#請撰寫一程式，由使用者輸入十個數字，然後找出其最小值，最後輸出最小值。\n",
    "num = []\n",
    "for i in range(10):\n",
    "    num.append(eval(input()))\n",
    "print(min(num))"
   ]
  },
  {
   "cell_type": "code",
   "execution_count": 1,
   "metadata": {},
   "outputs": [
    {
     "name": "stdout",
     "output_type": "stream",
     "text": [
      "45\n",
      "78\n",
      "88\n",
      "9999\n",
      "45\n"
     ]
    }
   ],
   "source": [
    "# TQC+ 程式語言Python 402 不定數迴圈-最小值\n",
    "#請撰寫一程式，讓使用者輸入數字，輸入的動作直到輸入值為9999才結束\n",
    "#，然後找出其最小值，並輸出最小值。\n",
    "num = []\n",
    "while True: \n",
    "    value = eval(input())\n",
    "    if value == 9999:\n",
    "        break\n",
    "    num.append(value)\n",
    "print(min(num))    \n"
   ]
  },
  {
   "cell_type": "code",
   "execution_count": 13,
   "metadata": {},
   "outputs": [
    {
     "name": "stdout",
     "output_type": "stream",
     "text": [
      "10\n",
      "50\n",
      "12  16  18  20  24  27  28  32  36  40  \n",
      "44  45  48  \n",
      "13\n",
      "390\n"
     ]
    }
   ],
   "source": [
    "# TQC+ 程式語言Python 403 倍數總和計算\n",
    "#請撰寫一程式，讓使用者輸入兩個正整數a、b（a<=b），輸出從a到b（包含a和b）之間4或9的倍數\n",
    "#（一列輸出十個數字、欄寬為4、靠左對齊）以及倍數之個數、總和。\n",
    "a = int(input())\n",
    "b = int(input())\n",
    "\n",
    "count = total = 0\n",
    "\n",
    "for i in range(a,b+1):\n",
    "    if i%4==0 or i%9==0:\n",
    "        count+=1\n",
    "        total+=i\n",
    "        print('{:<4d}'.format(i),end='')\n",
    "        if count%10==0:\n",
    "            print()\n",
    "print('\\n%d'%count)\n",
    "print(total)            "
   ]
  },
  {
   "cell_type": "code",
   "execution_count": 18,
   "metadata": {},
   "outputs": [
    {
     "name": "stdout",
     "output_type": "stream",
     "text": [
      "apple\n",
      "elppa\n"
     ]
    }
   ],
   "source": [
    "# TQC+ 程式語言Python 404 數字反轉判斷\n",
    "#請撰寫一程式，讓使用者輸入一個正整數，將此正整數以反轉的順序輸出，並判斷如輸入0，則輸出為0。\n",
    "num = input()\n",
    "\n",
    "if num == 0:\n",
    "    print(\"0\")\n",
    "else:\n",
    "    print(num[::-1])\n"
   ]
  },
  {
   "cell_type": "code",
   "execution_count": 1,
   "metadata": {},
   "outputs": [
    {
     "name": "stdout",
     "output_type": "stream",
     "text": [
      "55\n",
      "E\n",
      "69\n",
      "D\n",
      "78\n",
      "C\n",
      "9999\n"
     ]
    }
   ],
   "source": [
    "# TQC+ 程式語言Python 405 不定數迴圈-分數等級\n",
    "#請撰寫一程式，以不定數迴圈的方式輸入一個正整數（代表分數），之後根據以下分數與GPA的對照表，\n",
    "#印出其所對應的GPA。假設此不定數迴圈輸入9999則會結束此迴圈。標準如下表所示：\n",
    "\n",
    "num = eval(input())\n",
    "while num!=9999:\n",
    "    if num<=100 and num>=90:\n",
    "        print(\"A\")\n",
    "    elif num<=89 and num>=80:\n",
    "        print(\"B\")\n",
    "    elif num<=79 and num>=70:    \n",
    "        print(\"C\")\n",
    "    elif num<=69 and num>=60:    \n",
    "        print(\"D\")\n",
    "    elif num<60:\n",
    "        print(\"E\")\n",
    "    else:\n",
    "        print(\"ERROR\")\n",
    "        \n",
    "    num =eval(input())\n",
    "   \n",
    "        "
   ]
  },
  {
   "cell_type": "code",
   "execution_count": null,
   "metadata": {},
   "outputs": [
    {
     "name": "stdout",
     "output_type": "stream",
     "text": [
      "9999\n",
      "500\n",
      "under weight\n",
      "-9999\n"
     ]
    }
   ],
   "source": [
    "# TQC+ 程式語言Python 406 不定數迴圈-BMI計算\n",
    "#請撰寫一程式，以不定數迴圈的方式輸入身高與體重，計算出BMI之後再根據以下對照表\n",
    "#，印出BMI及相對應的BMI代表意義（State）。假設此不定數迴圈輸入-9999則會結束此迴圈。\n",
    "height = eval(input())\n",
    "while height!= -9999:\n",
    "    weight = eval(input())\n",
    "    BMI = weight/(height/100)**2\n",
    "    if BMI<18.5:\n",
    "        print(\"State: under weight\")\n",
    "    elif BMI<25 and BMI>=18.5:\n",
    "        print(\"State: normal\")\n",
    "    elif BMI<30 and BMI>=25:\n",
    "        print(\"State: over weight\")\n",
    "    else:\n",
    "        print(\"State:fat\")\n",
    "        \n",
    "    height = eval(input())    "
   ]
  },
  {
   "cell_type": "code",
   "execution_count": 3,
   "metadata": {},
   "outputs": [
    {
     "name": "stdout",
     "output_type": "stream",
     "text": [
      "2012\n",
      "2012 is a leap year.\n",
      "2006\n",
      "2006 is not a leap year.\n",
      "2038\n",
      "2038 is not a leap year.\n",
      "-9999\n"
     ]
    }
   ],
   "source": [
    "# TQC+ 程式語言Python 407 不定數迴圈-閏年判斷\n",
    "#請撰寫一程式，以不定數迴圈的方式讓使用者輸入西元年份，然後判斷它是否為閏年（leap year）或平年。\n",
    "#其判斷規則如下：每四年一閏，每百年不閏，但每四百年也一閏。\n",
    "#假設此不定數迴圈輸入-9999則會結束此迴圈\n",
    "year = int(input())\n",
    "while year!=-9999:\n",
    "    if year%400==0:\n",
    "        print(\"%d is a leap year.\" %year)\n",
    "    if year%4==0:    \n",
    "        print(\"%d is a leap year.\"%year)\n",
    "    elif year%100==0:\n",
    "        print(\"%d is not a leap year.\"%year)\n",
    "    else:\n",
    "        print(\"%d is not a leap year.\"%year)\n",
    "    \n",
    "    year = int(input())"
   ]
  },
  {
   "cell_type": "code",
   "execution_count": 7,
   "metadata": {},
   "outputs": [
    {
     "name": "stdout",
     "output_type": "stream",
     "text": [
      "1\n",
      "2\n",
      "3\n",
      "4\n",
      "5\n",
      "6\n",
      "7\n",
      "8\n",
      "9\n",
      "10\n",
      "Even numbers:5\n",
      "Odd numbers:5\n"
     ]
    }
   ],
   "source": [
    "# TQC+ 程式語言Python 408 奇偶數個數計算\n",
    "#請撰寫一程式，讓使用者輸入十個整數，計算並輸出偶數和奇數的個數。\n",
    "evencount = 0\n",
    "oddcount = 0\n",
    "for num in range(10):\n",
    "    num = int(input())\n",
    "    if num%2==0:\n",
    "        evencount += 1\n",
    "    else:\n",
    "        oddcount += 1\n",
    "print(\"Even numbers:%d\"%evencount)\n",
    "print(\"Odd numbers:%d\"%oddcount)\n",
    "        \n"
   ]
  },
  {
   "cell_type": "code",
   "execution_count": 9,
   "metadata": {},
   "outputs": [
    {
     "name": "stdout",
     "output_type": "stream",
     "text": [
      "1\n",
      "Total votes of NO.1:Nami = 1\n",
      "Total votes of NO.2:Chopper = 0\n",
      "Total null votes = 0\n",
      "2\n",
      "Total votes of NO.1:Nami = 1\n",
      "Total votes of NO.2:Chopper = 1\n",
      "Total null votes = 0\n",
      "3\n",
      "Total votes of NO.1:Nami = 1\n",
      "Total votes of NO.2:Chopper = 1\n",
      "Total null votes = 1\n",
      "0\n",
      "Total votes of NO.1:Nami = 1\n",
      "Total votes of NO.2:Chopper = 1\n",
      "Total null votes = 2\n",
      "2\n",
      "Total votes of NO.1:Nami = 1\n",
      "Total votes of NO.2:Chopper = 2\n",
      "Total null votes = 2\n",
      "Total votes of No.2:Chopper\n"
     ]
    }
   ],
   "source": [
    "# TQC+ 程式語言Python 409 得票數計算\n",
    "#某次選舉有兩位候選人，分別是No.1: Nami、No.2:Chopper。請撰寫一程式，\n",
    "#輸入五張選票，輸入值如為1即表示針對1號候選人投票；\n",
    "#輸入值如為2即表示針對2號候選人投票，如輸入其他值則視為廢票。\n",
    "#每次投完後需印出目前每位候選人的得票數，最後印出最高票者為當選人；\n",
    "#如最終計算有相同的最高票數者或無法選出最高票者，顯示【=> No one wonthe election.】。\n",
    "\n",
    "vote1 = 0\n",
    "vote2 = 0\n",
    "votenull = 0\n",
    "\n",
    "for i in range(5):\n",
    "    vote = int(input())\n",
    "    if vote == 1:\n",
    "        vote1 += 1\n",
    "    elif vote == 2:\n",
    "        vote2 += 1\n",
    "    else:\n",
    "        votenull += 1\n",
    "    print('Total votes of NO.1:Nami = %d'%vote1)\n",
    "    print('Total votes of NO.2:Chopper = %d'%vote2)\n",
    "    print('Total null votes = %d'%votenull)\n",
    "if vote1>vote2:\n",
    "    print(\"Total votes of NO.1:Nami\")\n",
    "elif vote1<vote2:\n",
    "    print(\"Total votes of No.2:Chopper\")\n",
    "else:\n",
    "    print(\"No one wonthe election.\")"
   ]
  },
  {
   "cell_type": "code",
   "execution_count": 26,
   "metadata": {},
   "outputs": [
    {
     "name": "stdout",
     "output_type": "stream",
     "text": [
      "7\n",
      "       *\n",
      "      ***\n",
      "     *****\n",
      "    *******\n",
      "   *********\n",
      "  ***********\n",
      " *************\n"
     ]
    }
   ],
   "source": [
    "# TQC+ 程式語言Python 410 繪製等腰三角形\n",
    "#請撰寫一程式，依照使用者輸入的n，\n",
    "#畫出對應的等腰三角形。\n",
    "n = eval(input())\n",
    "for i in range(1,n+1):\n",
    "    print(\" \"*(n-i),\"*\"*(2*i-1))"
   ]
  },
  {
   "cell_type": "code",
   "execution_count": 3,
   "metadata": {},
   "outputs": [
    {
     "name": "stdout",
     "output_type": "stream",
     "text": [
      "6\n",
      "     *\n",
      "    ***\n",
      "   *****\n",
      "  *******\n",
      " *********\n",
      "***********\n"
     ]
    }
   ],
   "source": [
    "#410(進階寫法)\n",
    "n = int(input())\n",
    "for i in range(1,n+1):\n",
    "    print(' '*(n-i),end='')\n",
    "    for j in range(1,2*i):\n",
    "        print('*',end='')\n",
    "    print()    "
   ]
  }
 ],
 "metadata": {
  "kernelspec": {
   "display_name": "Python 3",
   "language": "python",
   "name": "python3"
  },
  "language_info": {
   "codemirror_mode": {
    "name": "ipython",
    "version": 3
   },
   "file_extension": ".py",
   "mimetype": "text/x-python",
   "name": "python",
   "nbconvert_exporter": "python",
   "pygments_lexer": "ipython3",
   "version": "3.7.0"
  }
 },
 "nbformat": 4,
 "nbformat_minor": 2
}
